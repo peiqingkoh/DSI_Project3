{
 "cells": [
  {
   "cell_type": "markdown",
   "metadata": {},
   "source": [
    "# Project 3: Web APIs & Classification"
   ]
  },
  {
   "cell_type": "markdown",
   "metadata": {},
   "source": [
    "## Webscrapping (Reddit.com)"
   ]
  },
  {
   "cell_type": "markdown",
   "metadata": {},
   "source": [
    "### Importing Libraries"
   ]
  },
  {
   "cell_type": "code",
   "execution_count": 1,
   "metadata": {},
   "outputs": [],
   "source": [
    "import requests\n",
    "import time\n",
    "import pandas as pd\n",
    "import numpy as np\n",
    "import seaborn as sns\n",
    "import random\n",
    "import matplotlib.pyplot as plt\n",
    "\n",
    "current_palette = sns.color_palette()\n",
    "sns.palplot(sns.color_palette(\"Paired\"))\n",
    "%matplotlib inline"
   ]
  },
  {
   "cell_type": "markdown",
   "metadata": {},
   "source": [
    "### Data Gathering (Train set) : To build my model."
   ]
  },
  {
   "cell_type": "markdown",
   "metadata": {},
   "source": [
    "##### 1) From subreddit:EatCheapAndHealthy"
   ]
  },
  {
   "cell_type": "code",
   "execution_count": 2,
   "metadata": {},
   "outputs": [],
   "source": [
    "url= 'https://www.reddit.com/r/EatCheapAndHealthy/new/.json?limit=100'"
   ]
  },
  {
   "cell_type": "code",
   "execution_count": 3,
   "metadata": {
    "scrolled": true
   },
   "outputs": [],
   "source": [
    "headers = {'User-Agent': 'Light Heavy 1.0'}"
   ]
  },
  {
   "cell_type": "code",
   "execution_count": 4,
   "metadata": {},
   "outputs": [
    {
     "name": "stdout",
     "output_type": "stream",
     "text": [
      "https://www.reddit.com/r/EatCheapAndHealthy/new/.json?limit=100\n",
      "39\n",
      "https://www.reddit.com/r/EatCheapAndHealthy/new/.json?limit=100&after=t3_dkoq3y\n",
      "60\n",
      "https://www.reddit.com/r/EatCheapAndHealthy/new/.json?limit=100&after=t3_di8abn\n",
      "33\n",
      "https://www.reddit.com/r/EatCheapAndHealthy/new/.json?limit=100&after=t3_dfou3g\n",
      "43\n",
      "https://www.reddit.com/r/EatCheapAndHealthy/new/.json?limit=100&after=t3_dd1hvk\n",
      "21\n",
      "https://www.reddit.com/r/EatCheapAndHealthy/new/.json?limit=100&after=t3_damn9h\n",
      "18\n",
      "https://www.reddit.com/r/EatCheapAndHealthy/new/.json?limit=100&after=t3_d8heh9\n",
      "15\n",
      "https://www.reddit.com/r/EatCheapAndHealthy/new/.json?limit=100&after=t3_d5qu3t\n",
      "18\n",
      "https://www.reddit.com/r/EatCheapAndHealthy/new/.json?limit=100&after=t3_d3soxg\n",
      "27\n",
      "https://www.reddit.com/r/EatCheapAndHealthy/new/.json?limit=100&after=t3_d1ewa9\n",
      "52\n",
      "https://www.reddit.com/r/EatCheapAndHealthy/new/.json?limit=100\n",
      "51\n",
      "https://www.reddit.com/r/EatCheapAndHealthy/new/.json?limit=100&after=t3_dkpn60\n",
      "51\n"
     ]
    }
   ],
   "source": [
    "#Looping through the posts, 100 posts at a time\n",
    "posts = []\n",
    "after = None\n",
    "\n",
    "for a in range(12):     \n",
    "    if after == None:\n",
    "        current_url = url\n",
    "    else:\n",
    "        current_url = url + '&after=' + after\n",
    "    print(current_url)\n",
    "    res = requests.get(current_url, headers=headers)\n",
    "    \n",
    "    if res.status_code != 200:\n",
    "        print('Status error', res.status_code)\n",
    "        break\n",
    "    \n",
    "    current_dict = res.json()\n",
    "    current_posts = [p['data'] for p in current_dict['data']['children']]\n",
    "    posts.extend(current_posts)\n",
    "    after = current_dict['data']['after']\n",
    "    \n",
    "    if a > 0:\n",
    "        prev_posts = pd.read_csv('eatcheap.csv')\n",
    "        current_df = pd.DataFrame()\n",
    "        \n",
    "    else:\n",
    "        pd.DataFrame(posts).to_csv('eatcheap.csv', index = False)\n",
    "\n",
    "    # generate a random sleep duration to look more 'natural' and not to 'jam' the server .\n",
    "    sleep_duration = random.randint(15,60)\n",
    "    print(sleep_duration)\n",
    "    time.sleep(sleep_duration)"
   ]
  },
  {
   "cell_type": "code",
   "execution_count": 5,
   "metadata": {},
   "outputs": [
    {
     "data": {
      "text/plain": [
       "1156"
      ]
     },
     "execution_count": 5,
     "metadata": {},
     "output_type": "execute_result"
    }
   ],
   "source": [
    "len(posts)"
   ]
  },
  {
   "cell_type": "code",
   "execution_count": 6,
   "metadata": {
    "scrolled": true
   },
   "outputs": [],
   "source": [
    "pd.DataFrame(posts).to_csv('eatcheap.csv', index = False)"
   ]
  },
  {
   "cell_type": "markdown",
   "metadata": {},
   "source": [
    "##### 2) From subreddit:Supplements"
   ]
  },
  {
   "cell_type": "code",
   "execution_count": 7,
   "metadata": {},
   "outputs": [],
   "source": [
    "url= 'https://www.reddit.com/r/Supplements/new/.json?limit=100'"
   ]
  },
  {
   "cell_type": "code",
   "execution_count": 8,
   "metadata": {
    "scrolled": false
   },
   "outputs": [
    {
     "name": "stdout",
     "output_type": "stream",
     "text": [
      "https://www.reddit.com/r/Supplements/new/.json?limit=100\n",
      "42\n",
      "https://www.reddit.com/r/Supplements/new/.json?limit=100&after=t3_dijzkz\n",
      "29\n",
      "https://www.reddit.com/r/Supplements/new/.json?limit=100&after=t3_df7i26\n",
      "46\n",
      "https://www.reddit.com/r/Supplements/new/.json?limit=100&after=t3_dc8sav\n",
      "26\n",
      "https://www.reddit.com/r/Supplements/new/.json?limit=100&after=t3_d97f87\n",
      "19\n",
      "https://www.reddit.com/r/Supplements/new/.json?limit=100&after=t3_d50h3m\n",
      "60\n",
      "https://www.reddit.com/r/Supplements/new/.json?limit=100&after=t3_d1hddw\n",
      "16\n",
      "https://www.reddit.com/r/Supplements/new/.json?limit=100&after=t3_cxodl9\n",
      "41\n",
      "https://www.reddit.com/r/Supplements/new/.json?limit=100&after=t3_cuc1qn\n",
      "43\n",
      "https://www.reddit.com/r/Supplements/new/.json?limit=100&after=t3_cqvahj\n",
      "19\n",
      "https://www.reddit.com/r/Supplements/new/.json?limit=100\n",
      "43\n",
      "https://www.reddit.com/r/Supplements/new/.json?limit=100&after=t3_dijzkz\n",
      "19\n"
     ]
    }
   ],
   "source": [
    "#Looping through the posts, 100 posts at a time\n",
    "posts = []\n",
    "after = None\n",
    "\n",
    "for a in range(12):     \n",
    "    if after == None:\n",
    "        current_url = url\n",
    "    else:\n",
    "        current_url = url + '&after=' + after\n",
    "    print(current_url)\n",
    "    res = requests.get(current_url, headers=headers)\n",
    "    \n",
    "    if res.status_code != 200:\n",
    "        print('Status error', res.status_code)\n",
    "        break\n",
    "    \n",
    "    current_dict = res.json()\n",
    "    current_posts = [p['data'] for p in current_dict['data']['children']]\n",
    "    posts.extend(current_posts)\n",
    "    after = current_dict['data']['after']\n",
    "    \n",
    "    if a > 0:\n",
    "        prev_posts = pd.read_csv('supple.csv')\n",
    "        current_df = pd.DataFrame()\n",
    "        \n",
    "    else:\n",
    "        pd.DataFrame(posts).to_csv('supple.csv', index = False)\n",
    "\n",
    "    # generate a random sleep duration to look more 'natural'\n",
    "    sleep_duration = random.randint(15,60)\n",
    "    print(sleep_duration)\n",
    "    time.sleep(sleep_duration)"
   ]
  },
  {
   "cell_type": "code",
   "execution_count": 9,
   "metadata": {},
   "outputs": [
    {
     "data": {
      "text/plain": [
       "1193"
      ]
     },
     "execution_count": 9,
     "metadata": {},
     "output_type": "execute_result"
    }
   ],
   "source": [
    "len(posts)"
   ]
  },
  {
   "cell_type": "code",
   "execution_count": 10,
   "metadata": {},
   "outputs": [],
   "source": [
    "pd.DataFrame(posts).to_csv('supple.csv', index = False)"
   ]
  },
  {
   "cell_type": "markdown",
   "metadata": {},
   "source": [
    "### Data Gathering (Test set) : To test on my final model."
   ]
  },
  {
   "cell_type": "markdown",
   "metadata": {},
   "source": [
    "Taking 100 posts each from each subreddit "
   ]
  },
  {
   "cell_type": "code",
   "execution_count": 56,
   "metadata": {},
   "outputs": [],
   "source": [
    "url= 'https://www.reddit.com/r/Supplements/new/.json?limit=100'"
   ]
  },
  {
   "cell_type": "code",
   "execution_count": 57,
   "metadata": {},
   "outputs": [],
   "source": [
    "res = requests.get(url, headers=headers)\n",
    "\n",
    "if res.status_code != 200:\n",
    "    print('Status error', res.status_code)\n",
    "    \n",
    "dict = res.json()\n",
    "posts = [p['data'] for p in dict['data']['children']]\n",
    "\n",
    "pd.DataFrame(posts).to_csv('test_supple.csv', index = False)\n"
   ]
  },
  {
   "cell_type": "code",
   "execution_count": 58,
   "metadata": {},
   "outputs": [
    {
     "data": {
      "text/plain": [
       "100"
      ]
     },
     "execution_count": 58,
     "metadata": {},
     "output_type": "execute_result"
    }
   ],
   "source": [
    "len(posts)"
   ]
  },
  {
   "cell_type": "code",
   "execution_count": 59,
   "metadata": {},
   "outputs": [],
   "source": [
    "url= 'https://www.reddit.com/r/EatCheapAndHealthy/new/.json?limit=100'"
   ]
  },
  {
   "cell_type": "code",
   "execution_count": 60,
   "metadata": {},
   "outputs": [],
   "source": [
    "res = requests.get(url, headers=headers)\n",
    "\n",
    "if res.status_code != 200:\n",
    "    print('Status error', res.status_code)\n",
    "    \n",
    "dict = res.json()\n",
    "posts = [p['data'] for p in dict['data']['children']]\n",
    "\n",
    "pd.DataFrame(posts).to_csv('test_eatcheap.csv', index = False)"
   ]
  },
  {
   "cell_type": "code",
   "execution_count": 61,
   "metadata": {},
   "outputs": [
    {
     "data": {
      "text/plain": [
       "100"
      ]
     },
     "execution_count": 61,
     "metadata": {},
     "output_type": "execute_result"
    }
   ],
   "source": [
    "len(posts)"
   ]
  },
  {
   "cell_type": "code",
   "execution_count": null,
   "metadata": {},
   "outputs": [],
   "source": []
  }
 ],
 "metadata": {
  "kernelspec": {
   "display_name": "Python 3",
   "language": "python",
   "name": "python3"
  },
  "language_info": {
   "codemirror_mode": {
    "name": "ipython",
    "version": 3
   },
   "file_extension": ".py",
   "mimetype": "text/x-python",
   "name": "python",
   "nbconvert_exporter": "python",
   "pygments_lexer": "ipython3",
   "version": "3.7.3"
  }
 },
 "nbformat": 4,
 "nbformat_minor": 2
}
