{
 "cells": [
  {
   "cell_type": "markdown",
   "metadata": {},
   "source": [
    "# Project 3: Web APIs & Classification"
   ]
  },
  {
   "cell_type": "markdown",
   "metadata": {},
   "source": [
    "## Problem Statement"
   ]
  },
  {
   "cell_type": "markdown",
   "metadata": {},
   "source": [
    "A business man in the FF fitness industry wants to expand his business by venturing into new market sector. However, he cannot decide whether to venture into selling supplements or seting up resturants that sells healthy and afforable food. He wants his team to do some market study using post from subreddit since it is the sixth-most-popular website.\n",
    "\n",
    "Reddit admins sent one big dataset without seperating the subreddit post. Being a data analysts in the FF fitness company, I was assigned to seperate the posts and send to the relevent marketing team for market studies.\n",
    "\n",
    "\n",
    "\n",
    "\n",
    "\n"
   ]
  },
  {
   "cell_type": "markdown",
   "metadata": {},
   "source": [
    "*All libraries used*"
   ]
  },
  {
   "cell_type": "code",
   "execution_count": 1,
   "metadata": {},
   "outputs": [],
   "source": [
    "import requests\n",
    "import time\n",
    "import pandas as pd\n",
    "import numpy as np\n",
    "import seaborn as sns\n",
    "import random\n",
    "import matplotlib.pyplot as plt\n",
    "\n",
    "import warnings\n",
    "warnings.filterwarnings('ignore')\n",
    "\n",
    "sns.set(style='whitegrid', palette='muted')\n",
    "%matplotlib inline"
   ]
  },
  {
   "cell_type": "markdown",
   "metadata": {},
   "source": [
    "## Data Import and Cleaning"
   ]
  },
  {
   "cell_type": "markdown",
   "metadata": {},
   "source": [
    "Cleaning on eatcheap.csv ( From subreddit : EatCheapAndHealthy)"
   ]
  },
  {
   "cell_type": "code",
   "execution_count": 2,
   "metadata": {},
   "outputs": [],
   "source": [
    "#Reading the data\n",
    "eatcheap_df = pd.read_csv(\"../datasets/eatcheap.csv\")\n",
    "supple_df = pd.read_csv(\"../datasets/supple.csv\")\n",
    "\n",
    "pd.options.display.max_columns = None"
   ]
  },
  {
   "cell_type": "code",
   "execution_count": 3,
   "metadata": {
    "scrolled": true
   },
   "outputs": [
    {
     "data": {
      "text/html": [
       "<div>\n",
       "<style scoped>\n",
       "    .dataframe tbody tr th:only-of-type {\n",
       "        vertical-align: middle;\n",
       "    }\n",
       "\n",
       "    .dataframe tbody tr th {\n",
       "        vertical-align: top;\n",
       "    }\n",
       "\n",
       "    .dataframe thead th {\n",
       "        text-align: right;\n",
       "    }\n",
       "</style>\n",
       "<table border=\"1\" class=\"dataframe\">\n",
       "  <thead>\n",
       "    <tr style=\"text-align: right;\">\n",
       "      <th></th>\n",
       "      <th>all_awardings</th>\n",
       "      <th>allow_live_comments</th>\n",
       "      <th>approved_at_utc</th>\n",
       "      <th>approved_by</th>\n",
       "      <th>archived</th>\n",
       "      <th>author</th>\n",
       "      <th>author_cakeday</th>\n",
       "      <th>author_flair_background_color</th>\n",
       "      <th>author_flair_css_class</th>\n",
       "      <th>author_flair_richtext</th>\n",
       "      <th>author_flair_template_id</th>\n",
       "      <th>author_flair_text</th>\n",
       "      <th>author_flair_text_color</th>\n",
       "      <th>author_flair_type</th>\n",
       "      <th>author_fullname</th>\n",
       "      <th>author_patreon_flair</th>\n",
       "      <th>awarders</th>\n",
       "      <th>banned_at_utc</th>\n",
       "      <th>banned_by</th>\n",
       "      <th>can_gild</th>\n",
       "      <th>can_mod_post</th>\n",
       "      <th>category</th>\n",
       "      <th>clicked</th>\n",
       "      <th>content_categories</th>\n",
       "      <th>contest_mode</th>\n",
       "      <th>created</th>\n",
       "      <th>created_utc</th>\n",
       "      <th>discussion_type</th>\n",
       "      <th>distinguished</th>\n",
       "      <th>domain</th>\n",
       "      <th>downs</th>\n",
       "      <th>edited</th>\n",
       "      <th>gilded</th>\n",
       "      <th>gildings</th>\n",
       "      <th>hidden</th>\n",
       "      <th>hide_score</th>\n",
       "      <th>id</th>\n",
       "      <th>is_crosspostable</th>\n",
       "      <th>is_meta</th>\n",
       "      <th>is_original_content</th>\n",
       "      <th>is_reddit_media_domain</th>\n",
       "      <th>is_robot_indexable</th>\n",
       "      <th>is_self</th>\n",
       "      <th>is_video</th>\n",
       "      <th>likes</th>\n",
       "      <th>link_flair_background_color</th>\n",
       "      <th>link_flair_css_class</th>\n",
       "      <th>link_flair_richtext</th>\n",
       "      <th>link_flair_template_id</th>\n",
       "      <th>link_flair_text</th>\n",
       "      <th>link_flair_text_color</th>\n",
       "      <th>link_flair_type</th>\n",
       "      <th>locked</th>\n",
       "      <th>media</th>\n",
       "      <th>media_embed</th>\n",
       "      <th>media_metadata</th>\n",
       "      <th>media_only</th>\n",
       "      <th>mod_note</th>\n",
       "      <th>mod_reason_by</th>\n",
       "      <th>mod_reason_title</th>\n",
       "      <th>mod_reports</th>\n",
       "      <th>name</th>\n",
       "      <th>no_follow</th>\n",
       "      <th>num_comments</th>\n",
       "      <th>num_crossposts</th>\n",
       "      <th>num_reports</th>\n",
       "      <th>over_18</th>\n",
       "      <th>parent_whitelist_status</th>\n",
       "      <th>permalink</th>\n",
       "      <th>pinned</th>\n",
       "      <th>post_hint</th>\n",
       "      <th>preview</th>\n",
       "      <th>pwls</th>\n",
       "      <th>quarantine</th>\n",
       "      <th>removal_reason</th>\n",
       "      <th>report_reasons</th>\n",
       "      <th>saved</th>\n",
       "      <th>score</th>\n",
       "      <th>secure_media</th>\n",
       "      <th>secure_media_embed</th>\n",
       "      <th>selftext</th>\n",
       "      <th>selftext_html</th>\n",
       "      <th>send_replies</th>\n",
       "      <th>spoiler</th>\n",
       "      <th>steward_reports</th>\n",
       "      <th>stickied</th>\n",
       "      <th>subreddit</th>\n",
       "      <th>subreddit_id</th>\n",
       "      <th>subreddit_name_prefixed</th>\n",
       "      <th>subreddit_subscribers</th>\n",
       "      <th>subreddit_type</th>\n",
       "      <th>suggested_sort</th>\n",
       "      <th>thumbnail</th>\n",
       "      <th>thumbnail_height</th>\n",
       "      <th>thumbnail_width</th>\n",
       "      <th>title</th>\n",
       "      <th>total_awards_received</th>\n",
       "      <th>ups</th>\n",
       "      <th>url</th>\n",
       "      <th>user_reports</th>\n",
       "      <th>view_count</th>\n",
       "      <th>visited</th>\n",
       "      <th>whitelist_status</th>\n",
       "      <th>wls</th>\n",
       "    </tr>\n",
       "  </thead>\n",
       "  <tbody>\n",
       "    <tr>\n",
       "      <th>0</th>\n",
       "      <td>[]</td>\n",
       "      <td>False</td>\n",
       "      <td>NaN</td>\n",
       "      <td>NaN</td>\n",
       "      <td>False</td>\n",
       "      <td>unreal_reality_</td>\n",
       "      <td>NaN</td>\n",
       "      <td>NaN</td>\n",
       "      <td>NaN</td>\n",
       "      <td>[]</td>\n",
       "      <td>NaN</td>\n",
       "      <td>NaN</td>\n",
       "      <td>NaN</td>\n",
       "      <td>text</td>\n",
       "      <td>t2_4knguku</td>\n",
       "      <td>False</td>\n",
       "      <td>[]</td>\n",
       "      <td>NaN</td>\n",
       "      <td>NaN</td>\n",
       "      <td>False</td>\n",
       "      <td>False</td>\n",
       "      <td>NaN</td>\n",
       "      <td>False</td>\n",
       "      <td>NaN</td>\n",
       "      <td>False</td>\n",
       "      <td>1.571393e+09</td>\n",
       "      <td>1.571364e+09</td>\n",
       "      <td>NaN</td>\n",
       "      <td>NaN</td>\n",
       "      <td>self.EatCheapAndHealthy</td>\n",
       "      <td>0</td>\n",
       "      <td>False</td>\n",
       "      <td>0</td>\n",
       "      <td>{}</td>\n",
       "      <td>False</td>\n",
       "      <td>False</td>\n",
       "      <td>djgkb5</td>\n",
       "      <td>False</td>\n",
       "      <td>False</td>\n",
       "      <td>False</td>\n",
       "      <td>False</td>\n",
       "      <td>True</td>\n",
       "      <td>True</td>\n",
       "      <td>False</td>\n",
       "      <td>NaN</td>\n",
       "      <td>NaN</td>\n",
       "      <td>m-rd</td>\n",
       "      <td>[]</td>\n",
       "      <td>NaN</td>\n",
       "      <td>Ask ECAH</td>\n",
       "      <td>dark</td>\n",
       "      <td>text</td>\n",
       "      <td>False</td>\n",
       "      <td>NaN</td>\n",
       "      <td>{}</td>\n",
       "      <td>NaN</td>\n",
       "      <td>False</td>\n",
       "      <td>NaN</td>\n",
       "      <td>NaN</td>\n",
       "      <td>NaN</td>\n",
       "      <td>[]</td>\n",
       "      <td>t3_djgkb5</td>\n",
       "      <td>True</td>\n",
       "      <td>2</td>\n",
       "      <td>0</td>\n",
       "      <td>NaN</td>\n",
       "      <td>False</td>\n",
       "      <td>all_ads</td>\n",
       "      <td>/r/EatCheapAndHealthy/comments/djgkb5/what_are...</td>\n",
       "      <td>False</td>\n",
       "      <td>NaN</td>\n",
       "      <td>NaN</td>\n",
       "      <td>6</td>\n",
       "      <td>False</td>\n",
       "      <td>NaN</td>\n",
       "      <td>NaN</td>\n",
       "      <td>False</td>\n",
       "      <td>0</td>\n",
       "      <td>NaN</td>\n",
       "      <td>{}</td>\n",
       "      <td>I’m gonna be snowboarding and working out the ...</td>\n",
       "      <td>&amp;lt;!-- SC_OFF --&amp;gt;&amp;lt;div class=\"md\"&amp;gt;&amp;lt...</td>\n",
       "      <td>True</td>\n",
       "      <td>False</td>\n",
       "      <td>[]</td>\n",
       "      <td>False</td>\n",
       "      <td>EatCheapAndHealthy</td>\n",
       "      <td>t5_2vvpi</td>\n",
       "      <td>r/EatCheapAndHealthy</td>\n",
       "      <td>1512071</td>\n",
       "      <td>public</td>\n",
       "      <td>NaN</td>\n",
       "      <td>self</td>\n",
       "      <td>NaN</td>\n",
       "      <td>NaN</td>\n",
       "      <td>What are some high calorie foods for an extrem...</td>\n",
       "      <td>0</td>\n",
       "      <td>0</td>\n",
       "      <td>https://www.reddit.com/r/EatCheapAndHealthy/co...</td>\n",
       "      <td>[]</td>\n",
       "      <td>NaN</td>\n",
       "      <td>False</td>\n",
       "      <td>all_ads</td>\n",
       "      <td>6</td>\n",
       "    </tr>\n",
       "    <tr>\n",
       "      <th>1</th>\n",
       "      <td>[]</td>\n",
       "      <td>False</td>\n",
       "      <td>NaN</td>\n",
       "      <td>NaN</td>\n",
       "      <td>False</td>\n",
       "      <td>JSHFV222</td>\n",
       "      <td>NaN</td>\n",
       "      <td>NaN</td>\n",
       "      <td>NaN</td>\n",
       "      <td>[]</td>\n",
       "      <td>NaN</td>\n",
       "      <td>NaN</td>\n",
       "      <td>NaN</td>\n",
       "      <td>text</td>\n",
       "      <td>t2_3xpaajt2</td>\n",
       "      <td>False</td>\n",
       "      <td>[]</td>\n",
       "      <td>NaN</td>\n",
       "      <td>NaN</td>\n",
       "      <td>False</td>\n",
       "      <td>False</td>\n",
       "      <td>NaN</td>\n",
       "      <td>False</td>\n",
       "      <td>NaN</td>\n",
       "      <td>False</td>\n",
       "      <td>1.571393e+09</td>\n",
       "      <td>1.571364e+09</td>\n",
       "      <td>NaN</td>\n",
       "      <td>NaN</td>\n",
       "      <td>self.EatCheapAndHealthy</td>\n",
       "      <td>0</td>\n",
       "      <td>False</td>\n",
       "      <td>0</td>\n",
       "      <td>{}</td>\n",
       "      <td>False</td>\n",
       "      <td>False</td>\n",
       "      <td>djgisf</td>\n",
       "      <td>False</td>\n",
       "      <td>False</td>\n",
       "      <td>False</td>\n",
       "      <td>False</td>\n",
       "      <td>True</td>\n",
       "      <td>True</td>\n",
       "      <td>False</td>\n",
       "      <td>NaN</td>\n",
       "      <td>NaN</td>\n",
       "      <td>m-rd</td>\n",
       "      <td>[]</td>\n",
       "      <td>NaN</td>\n",
       "      <td>Ask ECAH</td>\n",
       "      <td>dark</td>\n",
       "      <td>text</td>\n",
       "      <td>False</td>\n",
       "      <td>NaN</td>\n",
       "      <td>{}</td>\n",
       "      <td>NaN</td>\n",
       "      <td>False</td>\n",
       "      <td>NaN</td>\n",
       "      <td>NaN</td>\n",
       "      <td>NaN</td>\n",
       "      <td>[]</td>\n",
       "      <td>t3_djgisf</td>\n",
       "      <td>True</td>\n",
       "      <td>2</td>\n",
       "      <td>0</td>\n",
       "      <td>NaN</td>\n",
       "      <td>False</td>\n",
       "      <td>all_ads</td>\n",
       "      <td>/r/EatCheapAndHealthy/comments/djgisf/what_is_...</td>\n",
       "      <td>False</td>\n",
       "      <td>NaN</td>\n",
       "      <td>NaN</td>\n",
       "      <td>6</td>\n",
       "      <td>False</td>\n",
       "      <td>NaN</td>\n",
       "      <td>NaN</td>\n",
       "      <td>False</td>\n",
       "      <td>0</td>\n",
       "      <td>NaN</td>\n",
       "      <td>{}</td>\n",
       "      <td>NaN</td>\n",
       "      <td>NaN</td>\n",
       "      <td>True</td>\n",
       "      <td>False</td>\n",
       "      <td>[]</td>\n",
       "      <td>False</td>\n",
       "      <td>EatCheapAndHealthy</td>\n",
       "      <td>t5_2vvpi</td>\n",
       "      <td>r/EatCheapAndHealthy</td>\n",
       "      <td>1512071</td>\n",
       "      <td>public</td>\n",
       "      <td>NaN</td>\n",
       "      <td>self</td>\n",
       "      <td>NaN</td>\n",
       "      <td>NaN</td>\n",
       "      <td>What is the most underrated food that people s...</td>\n",
       "      <td>0</td>\n",
       "      <td>0</td>\n",
       "      <td>https://www.reddit.com/r/EatCheapAndHealthy/co...</td>\n",
       "      <td>[]</td>\n",
       "      <td>NaN</td>\n",
       "      <td>False</td>\n",
       "      <td>all_ads</td>\n",
       "      <td>6</td>\n",
       "    </tr>\n",
       "  </tbody>\n",
       "</table>\n",
       "</div>"
      ],
      "text/plain": [
       "  all_awardings  allow_live_comments  approved_at_utc  approved_by  archived  \\\n",
       "0            []                False              NaN          NaN     False   \n",
       "1            []                False              NaN          NaN     False   \n",
       "\n",
       "            author author_cakeday  author_flair_background_color  \\\n",
       "0  unreal_reality_            NaN                            NaN   \n",
       "1         JSHFV222            NaN                            NaN   \n",
       "\n",
       "  author_flair_css_class author_flair_richtext  author_flair_template_id  \\\n",
       "0                    NaN                    []                       NaN   \n",
       "1                    NaN                    []                       NaN   \n",
       "\n",
       "   author_flair_text author_flair_text_color author_flair_type  \\\n",
       "0                NaN                     NaN              text   \n",
       "1                NaN                     NaN              text   \n",
       "\n",
       "  author_fullname author_patreon_flair awarders  banned_at_utc  banned_by  \\\n",
       "0      t2_4knguku                False       []            NaN        NaN   \n",
       "1     t2_3xpaajt2                False       []            NaN        NaN   \n",
       "\n",
       "   can_gild  can_mod_post  category  clicked  content_categories  \\\n",
       "0     False         False       NaN    False                 NaN   \n",
       "1     False         False       NaN    False                 NaN   \n",
       "\n",
       "   contest_mode       created   created_utc  discussion_type  distinguished  \\\n",
       "0         False  1.571393e+09  1.571364e+09              NaN            NaN   \n",
       "1         False  1.571393e+09  1.571364e+09              NaN            NaN   \n",
       "\n",
       "                    domain  downs edited  gilded gildings  hidden  hide_score  \\\n",
       "0  self.EatCheapAndHealthy      0  False       0       {}   False       False   \n",
       "1  self.EatCheapAndHealthy      0  False       0       {}   False       False   \n",
       "\n",
       "       id  is_crosspostable  is_meta  is_original_content  \\\n",
       "0  djgkb5             False    False                False   \n",
       "1  djgisf             False    False                False   \n",
       "\n",
       "   is_reddit_media_domain  is_robot_indexable  is_self  is_video  likes  \\\n",
       "0                   False                True     True     False    NaN   \n",
       "1                   False                True     True     False    NaN   \n",
       "\n",
       "   link_flair_background_color link_flair_css_class link_flair_richtext  \\\n",
       "0                          NaN                 m-rd                  []   \n",
       "1                          NaN                 m-rd                  []   \n",
       "\n",
       "  link_flair_template_id link_flair_text link_flair_text_color  \\\n",
       "0                    NaN        Ask ECAH                  dark   \n",
       "1                    NaN        Ask ECAH                  dark   \n",
       "\n",
       "  link_flair_type  locked media media_embed media_metadata  media_only  \\\n",
       "0            text   False   NaN          {}            NaN       False   \n",
       "1            text   False   NaN          {}            NaN       False   \n",
       "\n",
       "   mod_note  mod_reason_by  mod_reason_title mod_reports       name  \\\n",
       "0       NaN            NaN               NaN          []  t3_djgkb5   \n",
       "1       NaN            NaN               NaN          []  t3_djgisf   \n",
       "\n",
       "   no_follow  num_comments  num_crossposts  num_reports  over_18  \\\n",
       "0       True             2               0          NaN    False   \n",
       "1       True             2               0          NaN    False   \n",
       "\n",
       "  parent_whitelist_status                                          permalink  \\\n",
       "0                 all_ads  /r/EatCheapAndHealthy/comments/djgkb5/what_are...   \n",
       "1                 all_ads  /r/EatCheapAndHealthy/comments/djgisf/what_is_...   \n",
       "\n",
       "   pinned post_hint preview  pwls  quarantine  removal_reason  report_reasons  \\\n",
       "0   False       NaN     NaN     6       False             NaN             NaN   \n",
       "1   False       NaN     NaN     6       False             NaN             NaN   \n",
       "\n",
       "   saved  score secure_media secure_media_embed  \\\n",
       "0  False      0          NaN                 {}   \n",
       "1  False      0          NaN                 {}   \n",
       "\n",
       "                                            selftext  \\\n",
       "0  I’m gonna be snowboarding and working out the ...   \n",
       "1                                                NaN   \n",
       "\n",
       "                                       selftext_html  send_replies  spoiler  \\\n",
       "0  &lt;!-- SC_OFF --&gt;&lt;div class=\"md\"&gt;&lt...          True    False   \n",
       "1                                                NaN          True    False   \n",
       "\n",
       "  steward_reports  stickied           subreddit subreddit_id  \\\n",
       "0              []     False  EatCheapAndHealthy     t5_2vvpi   \n",
       "1              []     False  EatCheapAndHealthy     t5_2vvpi   \n",
       "\n",
       "  subreddit_name_prefixed  subreddit_subscribers subreddit_type  \\\n",
       "0    r/EatCheapAndHealthy                1512071         public   \n",
       "1    r/EatCheapAndHealthy                1512071         public   \n",
       "\n",
       "   suggested_sort thumbnail  thumbnail_height  thumbnail_width  \\\n",
       "0             NaN      self               NaN              NaN   \n",
       "1             NaN      self               NaN              NaN   \n",
       "\n",
       "                                               title  total_awards_received  \\\n",
       "0  What are some high calorie foods for an extrem...                      0   \n",
       "1  What is the most underrated food that people s...                      0   \n",
       "\n",
       "   ups                                                url user_reports  \\\n",
       "0    0  https://www.reddit.com/r/EatCheapAndHealthy/co...           []   \n",
       "1    0  https://www.reddit.com/r/EatCheapAndHealthy/co...           []   \n",
       "\n",
       "   view_count  visited whitelist_status  wls  \n",
       "0         NaN    False          all_ads    6  \n",
       "1         NaN    False          all_ads    6  "
      ]
     },
     "execution_count": 3,
     "metadata": {},
     "output_type": "execute_result"
    }
   ],
   "source": [
    "eatcheap_df.head(2)"
   ]
  },
  {
   "cell_type": "code",
   "execution_count": 4,
   "metadata": {},
   "outputs": [
    {
     "data": {
      "text/plain": [
       "(1152, 104)"
      ]
     },
     "execution_count": 4,
     "metadata": {},
     "output_type": "execute_result"
    }
   ],
   "source": [
    "eatcheap_df.shape"
   ]
  },
  {
   "cell_type": "code",
   "execution_count": 5,
   "metadata": {},
   "outputs": [],
   "source": [
    "#Drop duplicates rows\n",
    "eatcheap_df.drop_duplicates(inplace=True)"
   ]
  },
  {
   "cell_type": "code",
   "execution_count": 6,
   "metadata": {},
   "outputs": [
    {
     "data": {
      "text/plain": [
       "65"
      ]
     },
     "execution_count": 6,
     "metadata": {},
     "output_type": "execute_result"
    }
   ],
   "source": [
    "#Checking for null in interested column.\n",
    "eatcheap_df['selftext'].isnull().sum()"
   ]
  },
  {
   "cell_type": "code",
   "execution_count": 7,
   "metadata": {},
   "outputs": [],
   "source": [
    "#Filling all those supple_df 'selftext' NaN with '---'.\n",
    "eatcheap_df['selftext'] = eatcheap_df['selftext'].fillna('---')"
   ]
  },
  {
   "cell_type": "code",
   "execution_count": 8,
   "metadata": {},
   "outputs": [
    {
     "data": {
      "text/plain": [
       "0"
      ]
     },
     "execution_count": 8,
     "metadata": {},
     "output_type": "execute_result"
    }
   ],
   "source": [
    "#Checking for null.\n",
    "eatcheap_df['selftext'].isnull().sum()"
   ]
  },
  {
   "cell_type": "code",
   "execution_count": 9,
   "metadata": {},
   "outputs": [
    {
     "data": {
      "text/plain": [
       "(1061, 104)"
      ]
     },
     "execution_count": 9,
     "metadata": {},
     "output_type": "execute_result"
    }
   ],
   "source": [
    "#Checking number of rows left after dropping duplicates\n",
    "eatcheap_df.shape"
   ]
  },
  {
   "cell_type": "code",
   "execution_count": 10,
   "metadata": {},
   "outputs": [
    {
     "data": {
      "text/plain": [
       "dtype('O')"
      ]
     },
     "execution_count": 10,
     "metadata": {},
     "output_type": "execute_result"
    }
   ],
   "source": [
    "#Check the eatcheap column 'selftext' type\n",
    "eatcheap_df['selftext'].dtype"
   ]
  },
  {
   "cell_type": "code",
   "execution_count": 11,
   "metadata": {},
   "outputs": [],
   "source": [
    "#Convert 'selftext' column to string instead of object\n",
    "eatcheap_df['selftext'] = eatcheap_df['selftext'].astype(str)"
   ]
  },
  {
   "cell_type": "code",
   "execution_count": 12,
   "metadata": {},
   "outputs": [],
   "source": [
    "#Conver all string to lower case\n",
    "eatcheap_df['selftext'] = eatcheap_df['selftext'].str.lower()"
   ]
  },
  {
   "cell_type": "code",
   "execution_count": 13,
   "metadata": {},
   "outputs": [],
   "source": [
    "eatcheap_df_extract = eatcheap_df.filter(['selftext', 'subreddit'])"
   ]
  },
  {
   "cell_type": "markdown",
   "metadata": {},
   "source": [
    "*Cleaning on supple.csv ( From subreddit : Supplements)*"
   ]
  },
  {
   "cell_type": "code",
   "execution_count": 14,
   "metadata": {
    "scrolled": true
   },
   "outputs": [
    {
     "data": {
      "text/html": [
       "<div>\n",
       "<style scoped>\n",
       "    .dataframe tbody tr th:only-of-type {\n",
       "        vertical-align: middle;\n",
       "    }\n",
       "\n",
       "    .dataframe tbody tr th {\n",
       "        vertical-align: top;\n",
       "    }\n",
       "\n",
       "    .dataframe thead th {\n",
       "        text-align: right;\n",
       "    }\n",
       "</style>\n",
       "<table border=\"1\" class=\"dataframe\">\n",
       "  <thead>\n",
       "    <tr style=\"text-align: right;\">\n",
       "      <th></th>\n",
       "      <th>all_awardings</th>\n",
       "      <th>allow_live_comments</th>\n",
       "      <th>approved_at_utc</th>\n",
       "      <th>approved_by</th>\n",
       "      <th>archived</th>\n",
       "      <th>author</th>\n",
       "      <th>author_cakeday</th>\n",
       "      <th>author_flair_background_color</th>\n",
       "      <th>author_flair_css_class</th>\n",
       "      <th>author_flair_richtext</th>\n",
       "      <th>author_flair_template_id</th>\n",
       "      <th>author_flair_text</th>\n",
       "      <th>author_flair_text_color</th>\n",
       "      <th>author_flair_type</th>\n",
       "      <th>author_fullname</th>\n",
       "      <th>author_patreon_flair</th>\n",
       "      <th>awarders</th>\n",
       "      <th>banned_at_utc</th>\n",
       "      <th>banned_by</th>\n",
       "      <th>can_gild</th>\n",
       "      <th>can_mod_post</th>\n",
       "      <th>category</th>\n",
       "      <th>clicked</th>\n",
       "      <th>content_categories</th>\n",
       "      <th>contest_mode</th>\n",
       "      <th>created</th>\n",
       "      <th>created_utc</th>\n",
       "      <th>crosspost_parent</th>\n",
       "      <th>crosspost_parent_list</th>\n",
       "      <th>discussion_type</th>\n",
       "      <th>distinguished</th>\n",
       "      <th>domain</th>\n",
       "      <th>downs</th>\n",
       "      <th>edited</th>\n",
       "      <th>gilded</th>\n",
       "      <th>gildings</th>\n",
       "      <th>hidden</th>\n",
       "      <th>hide_score</th>\n",
       "      <th>id</th>\n",
       "      <th>is_crosspostable</th>\n",
       "      <th>is_meta</th>\n",
       "      <th>is_original_content</th>\n",
       "      <th>is_reddit_media_domain</th>\n",
       "      <th>is_robot_indexable</th>\n",
       "      <th>is_self</th>\n",
       "      <th>is_video</th>\n",
       "      <th>likes</th>\n",
       "      <th>link_flair_background_color</th>\n",
       "      <th>link_flair_css_class</th>\n",
       "      <th>link_flair_richtext</th>\n",
       "      <th>link_flair_template_id</th>\n",
       "      <th>link_flair_text</th>\n",
       "      <th>link_flair_text_color</th>\n",
       "      <th>link_flair_type</th>\n",
       "      <th>locked</th>\n",
       "      <th>media</th>\n",
       "      <th>media_embed</th>\n",
       "      <th>media_only</th>\n",
       "      <th>mod_note</th>\n",
       "      <th>mod_reason_by</th>\n",
       "      <th>mod_reason_title</th>\n",
       "      <th>mod_reports</th>\n",
       "      <th>name</th>\n",
       "      <th>no_follow</th>\n",
       "      <th>num_comments</th>\n",
       "      <th>num_crossposts</th>\n",
       "      <th>num_reports</th>\n",
       "      <th>over_18</th>\n",
       "      <th>parent_whitelist_status</th>\n",
       "      <th>permalink</th>\n",
       "      <th>pinned</th>\n",
       "      <th>pwls</th>\n",
       "      <th>quarantine</th>\n",
       "      <th>removal_reason</th>\n",
       "      <th>report_reasons</th>\n",
       "      <th>saved</th>\n",
       "      <th>score</th>\n",
       "      <th>secure_media</th>\n",
       "      <th>secure_media_embed</th>\n",
       "      <th>selftext</th>\n",
       "      <th>selftext_html</th>\n",
       "      <th>send_replies</th>\n",
       "      <th>spoiler</th>\n",
       "      <th>steward_reports</th>\n",
       "      <th>stickied</th>\n",
       "      <th>subreddit</th>\n",
       "      <th>subreddit_id</th>\n",
       "      <th>subreddit_name_prefixed</th>\n",
       "      <th>subreddit_subscribers</th>\n",
       "      <th>subreddit_type</th>\n",
       "      <th>suggested_sort</th>\n",
       "      <th>thumbnail</th>\n",
       "      <th>title</th>\n",
       "      <th>total_awards_received</th>\n",
       "      <th>ups</th>\n",
       "      <th>url</th>\n",
       "      <th>user_reports</th>\n",
       "      <th>view_count</th>\n",
       "      <th>visited</th>\n",
       "      <th>whitelist_status</th>\n",
       "      <th>wls</th>\n",
       "    </tr>\n",
       "  </thead>\n",
       "  <tbody>\n",
       "    <tr>\n",
       "      <th>0</th>\n",
       "      <td>[]</td>\n",
       "      <td>False</td>\n",
       "      <td>NaN</td>\n",
       "      <td>NaN</td>\n",
       "      <td>False</td>\n",
       "      <td>gableon</td>\n",
       "      <td>NaN</td>\n",
       "      <td>NaN</td>\n",
       "      <td>NaN</td>\n",
       "      <td>[]</td>\n",
       "      <td>NaN</td>\n",
       "      <td>NaN</td>\n",
       "      <td>NaN</td>\n",
       "      <td>text</td>\n",
       "      <td>t2_2ph44wbf</td>\n",
       "      <td>False</td>\n",
       "      <td>[]</td>\n",
       "      <td>NaN</td>\n",
       "      <td>NaN</td>\n",
       "      <td>False</td>\n",
       "      <td>False</td>\n",
       "      <td>NaN</td>\n",
       "      <td>False</td>\n",
       "      <td>NaN</td>\n",
       "      <td>False</td>\n",
       "      <td>1.571394e+09</td>\n",
       "      <td>1.571366e+09</td>\n",
       "      <td>NaN</td>\n",
       "      <td>NaN</td>\n",
       "      <td>NaN</td>\n",
       "      <td>NaN</td>\n",
       "      <td>self.Supplements</td>\n",
       "      <td>0</td>\n",
       "      <td>False</td>\n",
       "      <td>0</td>\n",
       "      <td>{}</td>\n",
       "      <td>False</td>\n",
       "      <td>False</td>\n",
       "      <td>djguvf</td>\n",
       "      <td>False</td>\n",
       "      <td>False</td>\n",
       "      <td>False</td>\n",
       "      <td>False</td>\n",
       "      <td>True</td>\n",
       "      <td>True</td>\n",
       "      <td>False</td>\n",
       "      <td>NaN</td>\n",
       "      <td>NaN</td>\n",
       "      <td>NaN</td>\n",
       "      <td>[]</td>\n",
       "      <td>NaN</td>\n",
       "      <td>NaN</td>\n",
       "      <td>dark</td>\n",
       "      <td>text</td>\n",
       "      <td>False</td>\n",
       "      <td>NaN</td>\n",
       "      <td>{}</td>\n",
       "      <td>False</td>\n",
       "      <td>NaN</td>\n",
       "      <td>NaN</td>\n",
       "      <td>NaN</td>\n",
       "      <td>[]</td>\n",
       "      <td>t3_djguvf</td>\n",
       "      <td>True</td>\n",
       "      <td>12</td>\n",
       "      <td>0</td>\n",
       "      <td>NaN</td>\n",
       "      <td>False</td>\n",
       "      <td>all_ads</td>\n",
       "      <td>/r/Supplements/comments/djguvf/started_taking_...</td>\n",
       "      <td>False</td>\n",
       "      <td>6</td>\n",
       "      <td>False</td>\n",
       "      <td>NaN</td>\n",
       "      <td>NaN</td>\n",
       "      <td>False</td>\n",
       "      <td>2</td>\n",
       "      <td>NaN</td>\n",
       "      <td>{}</td>\n",
       "      <td>Yesterday was my first day, i took one 5mg at ...</td>\n",
       "      <td>&amp;lt;!-- SC_OFF --&amp;gt;&amp;lt;div class=\"md\"&amp;gt;&amp;lt...</td>\n",
       "      <td>False</td>\n",
       "      <td>False</td>\n",
       "      <td>[]</td>\n",
       "      <td>False</td>\n",
       "      <td>Supplements</td>\n",
       "      <td>t5_2qhb8</td>\n",
       "      <td>r/Supplements</td>\n",
       "      <td>102028</td>\n",
       "      <td>public</td>\n",
       "      <td>NaN</td>\n",
       "      <td>NaN</td>\n",
       "      <td>Started taking melatonin and hasn’t worked.</td>\n",
       "      <td>0</td>\n",
       "      <td>2</td>\n",
       "      <td>https://www.reddit.com/r/Supplements/comments/...</td>\n",
       "      <td>[]</td>\n",
       "      <td>NaN</td>\n",
       "      <td>False</td>\n",
       "      <td>all_ads</td>\n",
       "      <td>6</td>\n",
       "    </tr>\n",
       "    <tr>\n",
       "      <th>1</th>\n",
       "      <td>[]</td>\n",
       "      <td>False</td>\n",
       "      <td>NaN</td>\n",
       "      <td>NaN</td>\n",
       "      <td>False</td>\n",
       "      <td>franzybear</td>\n",
       "      <td>NaN</td>\n",
       "      <td>NaN</td>\n",
       "      <td>NaN</td>\n",
       "      <td>[]</td>\n",
       "      <td>NaN</td>\n",
       "      <td>NaN</td>\n",
       "      <td>NaN</td>\n",
       "      <td>text</td>\n",
       "      <td>t2_12wlkr</td>\n",
       "      <td>False</td>\n",
       "      <td>[]</td>\n",
       "      <td>NaN</td>\n",
       "      <td>NaN</td>\n",
       "      <td>False</td>\n",
       "      <td>False</td>\n",
       "      <td>NaN</td>\n",
       "      <td>False</td>\n",
       "      <td>NaN</td>\n",
       "      <td>False</td>\n",
       "      <td>1.571388e+09</td>\n",
       "      <td>1.571359e+09</td>\n",
       "      <td>NaN</td>\n",
       "      <td>NaN</td>\n",
       "      <td>NaN</td>\n",
       "      <td>NaN</td>\n",
       "      <td>self.Supplements</td>\n",
       "      <td>0</td>\n",
       "      <td>False</td>\n",
       "      <td>0</td>\n",
       "      <td>{}</td>\n",
       "      <td>False</td>\n",
       "      <td>False</td>\n",
       "      <td>djfgit</td>\n",
       "      <td>False</td>\n",
       "      <td>False</td>\n",
       "      <td>False</td>\n",
       "      <td>False</td>\n",
       "      <td>True</td>\n",
       "      <td>True</td>\n",
       "      <td>False</td>\n",
       "      <td>NaN</td>\n",
       "      <td>NaN</td>\n",
       "      <td>NaN</td>\n",
       "      <td>[]</td>\n",
       "      <td>NaN</td>\n",
       "      <td>NaN</td>\n",
       "      <td>dark</td>\n",
       "      <td>text</td>\n",
       "      <td>False</td>\n",
       "      <td>NaN</td>\n",
       "      <td>{}</td>\n",
       "      <td>False</td>\n",
       "      <td>NaN</td>\n",
       "      <td>NaN</td>\n",
       "      <td>NaN</td>\n",
       "      <td>[]</td>\n",
       "      <td>t3_djfgit</td>\n",
       "      <td>True</td>\n",
       "      <td>0</td>\n",
       "      <td>0</td>\n",
       "      <td>NaN</td>\n",
       "      <td>False</td>\n",
       "      <td>all_ads</td>\n",
       "      <td>/r/Supplements/comments/djfgit/life_extension_...</td>\n",
       "      <td>False</td>\n",
       "      <td>6</td>\n",
       "      <td>False</td>\n",
       "      <td>NaN</td>\n",
       "      <td>NaN</td>\n",
       "      <td>False</td>\n",
       "      <td>3</td>\n",
       "      <td>NaN</td>\n",
       "      <td>{}</td>\n",
       "      <td>Just picked up a bottle and am curious;\\n\\nHow...</td>\n",
       "      <td>&amp;lt;!-- SC_OFF --&amp;gt;&amp;lt;div class=\"md\"&amp;gt;&amp;lt...</td>\n",
       "      <td>True</td>\n",
       "      <td>False</td>\n",
       "      <td>[]</td>\n",
       "      <td>False</td>\n",
       "      <td>Supplements</td>\n",
       "      <td>t5_2qhb8</td>\n",
       "      <td>r/Supplements</td>\n",
       "      <td>102028</td>\n",
       "      <td>public</td>\n",
       "      <td>NaN</td>\n",
       "      <td>NaN</td>\n",
       "      <td>Life Extension 2 Per Day Capsules</td>\n",
       "      <td>0</td>\n",
       "      <td>3</td>\n",
       "      <td>https://www.reddit.com/r/Supplements/comments/...</td>\n",
       "      <td>[]</td>\n",
       "      <td>NaN</td>\n",
       "      <td>False</td>\n",
       "      <td>all_ads</td>\n",
       "      <td>6</td>\n",
       "    </tr>\n",
       "  </tbody>\n",
       "</table>\n",
       "</div>"
      ],
      "text/plain": [
       "  all_awardings  allow_live_comments  approved_at_utc  approved_by  archived  \\\n",
       "0            []                False              NaN          NaN     False   \n",
       "1            []                False              NaN          NaN     False   \n",
       "\n",
       "       author author_cakeday  author_flair_background_color  \\\n",
       "0     gableon            NaN                            NaN   \n",
       "1  franzybear            NaN                            NaN   \n",
       "\n",
       "   author_flair_css_class author_flair_richtext  author_flair_template_id  \\\n",
       "0                     NaN                    []                       NaN   \n",
       "1                     NaN                    []                       NaN   \n",
       "\n",
       "  author_flair_text author_flair_text_color author_flair_type author_fullname  \\\n",
       "0               NaN                     NaN              text     t2_2ph44wbf   \n",
       "1               NaN                     NaN              text       t2_12wlkr   \n",
       "\n",
       "  author_patreon_flair awarders  banned_at_utc  banned_by  can_gild  \\\n",
       "0                False       []            NaN        NaN     False   \n",
       "1                False       []            NaN        NaN     False   \n",
       "\n",
       "   can_mod_post  category  clicked  content_categories  contest_mode  \\\n",
       "0         False       NaN    False                 NaN         False   \n",
       "1         False       NaN    False                 NaN         False   \n",
       "\n",
       "        created   created_utc crosspost_parent crosspost_parent_list  \\\n",
       "0  1.571394e+09  1.571366e+09              NaN                   NaN   \n",
       "1  1.571388e+09  1.571359e+09              NaN                   NaN   \n",
       "\n",
       "   discussion_type  distinguished            domain  downs edited  gilded  \\\n",
       "0              NaN            NaN  self.Supplements      0  False       0   \n",
       "1              NaN            NaN  self.Supplements      0  False       0   \n",
       "\n",
       "  gildings  hidden  hide_score      id  is_crosspostable  is_meta  \\\n",
       "0       {}   False       False  djguvf             False    False   \n",
       "1       {}   False       False  djfgit             False    False   \n",
       "\n",
       "   is_original_content  is_reddit_media_domain  is_robot_indexable  is_self  \\\n",
       "0                False                   False                True     True   \n",
       "1                False                   False                True     True   \n",
       "\n",
       "   is_video  likes  link_flair_background_color  link_flair_css_class  \\\n",
       "0     False    NaN                          NaN                   NaN   \n",
       "1     False    NaN                          NaN                   NaN   \n",
       "\n",
       "  link_flair_richtext link_flair_template_id link_flair_text  \\\n",
       "0                  []                    NaN             NaN   \n",
       "1                  []                    NaN             NaN   \n",
       "\n",
       "  link_flair_text_color link_flair_type  locked  media media_embed  \\\n",
       "0                  dark            text   False    NaN          {}   \n",
       "1                  dark            text   False    NaN          {}   \n",
       "\n",
       "   media_only  mod_note  mod_reason_by  mod_reason_title mod_reports  \\\n",
       "0       False       NaN            NaN               NaN          []   \n",
       "1       False       NaN            NaN               NaN          []   \n",
       "\n",
       "        name  no_follow  num_comments  num_crossposts  num_reports  over_18  \\\n",
       "0  t3_djguvf       True            12               0          NaN    False   \n",
       "1  t3_djfgit       True             0               0          NaN    False   \n",
       "\n",
       "  parent_whitelist_status                                          permalink  \\\n",
       "0                 all_ads  /r/Supplements/comments/djguvf/started_taking_...   \n",
       "1                 all_ads  /r/Supplements/comments/djfgit/life_extension_...   \n",
       "\n",
       "   pinned  pwls  quarantine  removal_reason  report_reasons  saved  score  \\\n",
       "0   False     6       False             NaN             NaN  False      2   \n",
       "1   False     6       False             NaN             NaN  False      3   \n",
       "\n",
       "   secure_media secure_media_embed  \\\n",
       "0           NaN                 {}   \n",
       "1           NaN                 {}   \n",
       "\n",
       "                                            selftext  \\\n",
       "0  Yesterday was my first day, i took one 5mg at ...   \n",
       "1  Just picked up a bottle and am curious;\\n\\nHow...   \n",
       "\n",
       "                                       selftext_html  send_replies  spoiler  \\\n",
       "0  &lt;!-- SC_OFF --&gt;&lt;div class=\"md\"&gt;&lt...         False    False   \n",
       "1  &lt;!-- SC_OFF --&gt;&lt;div class=\"md\"&gt;&lt...          True    False   \n",
       "\n",
       "  steward_reports  stickied    subreddit subreddit_id subreddit_name_prefixed  \\\n",
       "0              []     False  Supplements     t5_2qhb8           r/Supplements   \n",
       "1              []     False  Supplements     t5_2qhb8           r/Supplements   \n",
       "\n",
       "   subreddit_subscribers subreddit_type  suggested_sort  thumbnail  \\\n",
       "0                 102028         public             NaN        NaN   \n",
       "1                 102028         public             NaN        NaN   \n",
       "\n",
       "                                         title  total_awards_received  ups  \\\n",
       "0  Started taking melatonin and hasn’t worked.                      0    2   \n",
       "1            Life Extension 2 Per Day Capsules                      0    3   \n",
       "\n",
       "                                                 url user_reports  view_count  \\\n",
       "0  https://www.reddit.com/r/Supplements/comments/...           []         NaN   \n",
       "1  https://www.reddit.com/r/Supplements/comments/...           []         NaN   \n",
       "\n",
       "   visited whitelist_status  wls  \n",
       "0    False          all_ads    6  \n",
       "1    False          all_ads    6  "
      ]
     },
     "execution_count": 14,
     "metadata": {},
     "output_type": "execute_result"
    }
   ],
   "source": [
    "supple_df.head(2)"
   ]
  },
  {
   "cell_type": "code",
   "execution_count": 15,
   "metadata": {},
   "outputs": [
    {
     "data": {
      "text/plain": [
       "(1194, 101)"
      ]
     },
     "execution_count": 15,
     "metadata": {},
     "output_type": "execute_result"
    }
   ],
   "source": [
    "supple_df.shape"
   ]
  },
  {
   "cell_type": "code",
   "execution_count": 16,
   "metadata": {},
   "outputs": [],
   "source": [
    "#Drop duplicates rows\n",
    "supple_df.drop_duplicates(inplace=True)\n"
   ]
  },
  {
   "cell_type": "code",
   "execution_count": 17,
   "metadata": {},
   "outputs": [
    {
     "data": {
      "text/plain": [
       "6"
      ]
     },
     "execution_count": 17,
     "metadata": {},
     "output_type": "execute_result"
    }
   ],
   "source": [
    "#Checking for null in interested column.\n",
    "supple_df['selftext'].isnull().sum()"
   ]
  },
  {
   "cell_type": "code",
   "execution_count": 18,
   "metadata": {},
   "outputs": [],
   "source": [
    "#Filling all those supple_df 'selftext' NaN with '---'.\n",
    "supple_df['selftext'] = supple_df['selftext'].fillna('---')"
   ]
  },
  {
   "cell_type": "code",
   "execution_count": 19,
   "metadata": {},
   "outputs": [
    {
     "data": {
      "text/plain": [
       "0"
      ]
     },
     "execution_count": 19,
     "metadata": {},
     "output_type": "execute_result"
    }
   ],
   "source": [
    "supple_df['selftext'].isnull().sum()"
   ]
  },
  {
   "cell_type": "code",
   "execution_count": 20,
   "metadata": {},
   "outputs": [
    {
     "data": {
      "text/plain": [
       "(1081, 101)"
      ]
     },
     "execution_count": 20,
     "metadata": {},
     "output_type": "execute_result"
    }
   ],
   "source": [
    "#Checking number of rows left after dropping duplicates\n",
    "supple_df.shape"
   ]
  },
  {
   "cell_type": "code",
   "execution_count": 21,
   "metadata": {},
   "outputs": [],
   "source": [
    "#Convert 'selftext' column to string instead of object\n",
    "supple_df['selftext'] = supple_df['selftext'].astype(str)"
   ]
  },
  {
   "cell_type": "code",
   "execution_count": 22,
   "metadata": {},
   "outputs": [],
   "source": [
    "#Conver all string to lower case\n",
    "supple_df['selftext'] = supple_df['selftext'].str.lower()"
   ]
  },
  {
   "cell_type": "code",
   "execution_count": 23,
   "metadata": {},
   "outputs": [],
   "source": [
    "supple_df_extract = supple_df.filter(['selftext', 'subreddit'])"
   ]
  },
  {
   "cell_type": "markdown",
   "metadata": {},
   "source": []
  },
  {
   "cell_type": "code",
   "execution_count": 24,
   "metadata": {},
   "outputs": [],
   "source": [
    "#Concat. 2 dataframe into 1\n",
    "combine_df = pd.concat([eatcheap_df_extract, supple_df_extract],axis=0)\n",
    "\n",
    "#Rename columns and map EatCheapAndHealthy as 0 and Supplements as 1\n",
    "combine_df.rename(columns={'subreddit': 'label'},inplace = True)\n",
    "combine_df['label'] = combine_df['label'].map({'EatCheapAndHealthy':0, 'Supplements':1})"
   ]
  },
  {
   "cell_type": "code",
   "execution_count": 25,
   "metadata": {},
   "outputs": [],
   "source": [
    "from sklearn.utils import shuffle\n",
    "combine_df = shuffle(combine_df)\n",
    "combine_df = combine_df.reset_index(drop=True)"
   ]
  },
  {
   "cell_type": "code",
   "execution_count": 26,
   "metadata": {},
   "outputs": [
    {
     "data": {
      "text/html": [
       "<div>\n",
       "<style scoped>\n",
       "    .dataframe tbody tr th:only-of-type {\n",
       "        vertical-align: middle;\n",
       "    }\n",
       "\n",
       "    .dataframe tbody tr th {\n",
       "        vertical-align: top;\n",
       "    }\n",
       "\n",
       "    .dataframe thead th {\n",
       "        text-align: right;\n",
       "    }\n",
       "</style>\n",
       "<table border=\"1\" class=\"dataframe\">\n",
       "  <thead>\n",
       "    <tr style=\"text-align: right;\">\n",
       "      <th></th>\n",
       "      <th>selftext</th>\n",
       "      <th>label</th>\n",
       "    </tr>\n",
       "  </thead>\n",
       "  <tbody>\n",
       "    <tr>\n",
       "      <th>0</th>\n",
       "      <td>my genetics have given me very defined vascula...</td>\n",
       "      <td>1</td>\n",
       "    </tr>\n",
       "    <tr>\n",
       "      <th>1</th>\n",
       "      <td>i've been eating spinach &amp;amp; kale with tomat...</td>\n",
       "      <td>0</td>\n",
       "    </tr>\n",
       "    <tr>\n",
       "      <th>2</th>\n",
       "      <td>this is how i usually eat breakfast, it gradua...</td>\n",
       "      <td>0</td>\n",
       "    </tr>\n",
       "    <tr>\n",
       "      <th>3</th>\n",
       "      <td>i'm not looking to spend a ton, but i don't wa...</td>\n",
       "      <td>0</td>\n",
       "    </tr>\n",
       "    <tr>\n",
       "      <th>4</th>\n",
       "      <td>my fiancee is having a difficult time finding ...</td>\n",
       "      <td>1</td>\n",
       "    </tr>\n",
       "    <tr>\n",
       "      <th>5</th>\n",
       "      <td>i've started taking bcaa because i'm vegan and...</td>\n",
       "      <td>1</td>\n",
       "    </tr>\n",
       "    <tr>\n",
       "      <th>6</th>\n",
       "      <td>i’ve been taking 500mg of d-limonene for 2mont...</td>\n",
       "      <td>1</td>\n",
       "    </tr>\n",
       "    <tr>\n",
       "      <th>7</th>\n",
       "      <td>i search for recipes for simple tater tots, bu...</td>\n",
       "      <td>0</td>\n",
       "    </tr>\n",
       "    <tr>\n",
       "      <th>8</th>\n",
       "      <td>what’s everyone’s opinion on bcaas?\\ni used it...</td>\n",
       "      <td>1</td>\n",
       "    </tr>\n",
       "    <tr>\n",
       "      <th>9</th>\n",
       "      <td>obviously staple ingredients will vary greatly...</td>\n",
       "      <td>0</td>\n",
       "    </tr>\n",
       "  </tbody>\n",
       "</table>\n",
       "</div>"
      ],
      "text/plain": [
       "                                            selftext  label\n",
       "0  my genetics have given me very defined vascula...      1\n",
       "1  i've been eating spinach &amp; kale with tomat...      0\n",
       "2  this is how i usually eat breakfast, it gradua...      0\n",
       "3  i'm not looking to spend a ton, but i don't wa...      0\n",
       "4  my fiancee is having a difficult time finding ...      1\n",
       "5  i've started taking bcaa because i'm vegan and...      1\n",
       "6  i’ve been taking 500mg of d-limonene for 2mont...      1\n",
       "7  i search for recipes for simple tater tots, bu...      0\n",
       "8  what’s everyone’s opinion on bcaas?\\ni used it...      1\n",
       "9  obviously staple ingredients will vary greatly...      0"
      ]
     },
     "execution_count": 26,
     "metadata": {},
     "output_type": "execute_result"
    }
   ],
   "source": [
    "combine_df.head(10)"
   ]
  },
  {
   "cell_type": "markdown",
   "metadata": {},
   "source": [
    "## Model preparation"
   ]
  },
  {
   "cell_type": "markdown",
   "metadata": {},
   "source": []
  },
  {
   "cell_type": "markdown",
   "metadata": {},
   "source": [
    "### Train/Test Split"
   ]
  },
  {
   "cell_type": "markdown",
   "metadata": {},
   "source": [
    "Splitting the data into train and test set before doing the processing"
   ]
  },
  {
   "cell_type": "code",
   "execution_count": 27,
   "metadata": {},
   "outputs": [],
   "source": [
    "# Import train_test_split.\n",
    "from sklearn.model_selection import train_test_split\n",
    "\n",
    "# Create train_test_split.\n",
    "X_train, X_test, y_train, y_test = train_test_split(combine_df[['selftext']],\n",
    "                                                    combine_df['label'],\n",
    "                                                    test_size = 0.25,\n",
    "                                                    random_state = 42,\n",
    "                                                    shuffle = True, \n",
    "                                                    stratify=combine_df['label'])"
   ]
  },
  {
   "cell_type": "code",
   "execution_count": 28,
   "metadata": {},
   "outputs": [
    {
     "data": {
      "text/html": [
       "<div>\n",
       "<style scoped>\n",
       "    .dataframe tbody tr th:only-of-type {\n",
       "        vertical-align: middle;\n",
       "    }\n",
       "\n",
       "    .dataframe tbody tr th {\n",
       "        vertical-align: top;\n",
       "    }\n",
       "\n",
       "    .dataframe thead th {\n",
       "        text-align: right;\n",
       "    }\n",
       "</style>\n",
       "<table border=\"1\" class=\"dataframe\">\n",
       "  <thead>\n",
       "    <tr style=\"text-align: right;\">\n",
       "      <th></th>\n",
       "      <th>selftext</th>\n",
       "    </tr>\n",
       "  </thead>\n",
       "  <tbody>\n",
       "    <tr>\n",
       "      <th>1667</th>\n",
       "      <td>hi! \\ni’ve never really chose healthy foods an...</td>\n",
       "    </tr>\n",
       "    <tr>\n",
       "      <th>650</th>\n",
       "      <td>i want (and need) to start adding more veggies...</td>\n",
       "    </tr>\n",
       "    <tr>\n",
       "      <th>1283</th>\n",
       "      <td>so i’ve actually posted about this a few days ...</td>\n",
       "    </tr>\n",
       "    <tr>\n",
       "      <th>2019</th>\n",
       "      <td>i pride myself on being able to wake up and be...</td>\n",
       "    </tr>\n",
       "    <tr>\n",
       "      <th>1966</th>\n",
       "      <td>considering our diets are typically high in co...</td>\n",
       "    </tr>\n",
       "  </tbody>\n",
       "</table>\n",
       "</div>"
      ],
      "text/plain": [
       "                                               selftext\n",
       "1667  hi! \\ni’ve never really chose healthy foods an...\n",
       "650   i want (and need) to start adding more veggies...\n",
       "1283  so i’ve actually posted about this a few days ...\n",
       "2019  i pride myself on being able to wake up and be...\n",
       "1966  considering our diets are typically high in co..."
      ]
     },
     "execution_count": 28,
     "metadata": {},
     "output_type": "execute_result"
    }
   ],
   "source": [
    "X_test.head()"
   ]
  },
  {
   "cell_type": "code",
   "execution_count": 29,
   "metadata": {},
   "outputs": [
    {
     "data": {
      "text/html": [
       "<div>\n",
       "<style scoped>\n",
       "    .dataframe tbody tr th:only-of-type {\n",
       "        vertical-align: middle;\n",
       "    }\n",
       "\n",
       "    .dataframe tbody tr th {\n",
       "        vertical-align: top;\n",
       "    }\n",
       "\n",
       "    .dataframe thead th {\n",
       "        text-align: right;\n",
       "    }\n",
       "</style>\n",
       "<table border=\"1\" class=\"dataframe\">\n",
       "  <thead>\n",
       "    <tr style=\"text-align: right;\">\n",
       "      <th></th>\n",
       "      <th>selftext</th>\n",
       "    </tr>\n",
       "  </thead>\n",
       "  <tbody>\n",
       "    <tr>\n",
       "      <th>1194</th>\n",
       "      <td>so, brie isn't super cheap, but i love it in r...</td>\n",
       "    </tr>\n",
       "    <tr>\n",
       "      <th>725</th>\n",
       "      <td>i need help coming up with meals that are good...</td>\n",
       "    </tr>\n",
       "    <tr>\n",
       "      <th>328</th>\n",
       "      <td>i've never been great at including vegetables ...</td>\n",
       "    </tr>\n",
       "    <tr>\n",
       "      <th>1119</th>\n",
       "      <td>for those of you that take a high quality hair...</td>\n",
       "    </tr>\n",
       "    <tr>\n",
       "      <th>94</th>\n",
       "      <td>hi reddit!\\n\\nwe host drinks for our team of 2...</td>\n",
       "    </tr>\n",
       "  </tbody>\n",
       "</table>\n",
       "</div>"
      ],
      "text/plain": [
       "                                               selftext\n",
       "1194  so, brie isn't super cheap, but i love it in r...\n",
       "725   i need help coming up with meals that are good...\n",
       "328   i've never been great at including vegetables ...\n",
       "1119  for those of you that take a high quality hair...\n",
       "94    hi reddit!\\n\\nwe host drinks for our team of 2..."
      ]
     },
     "execution_count": 29,
     "metadata": {},
     "output_type": "execute_result"
    }
   ],
   "source": [
    "X_train.head()"
   ]
  },
  {
   "cell_type": "code",
   "execution_count": 30,
   "metadata": {},
   "outputs": [
    {
     "data": {
      "text/plain": [
       "1667    0\n",
       "650     0\n",
       "1283    1\n",
       "2019    0\n",
       "1966    1\n",
       "Name: label, dtype: int64"
      ]
     },
     "execution_count": 30,
     "metadata": {},
     "output_type": "execute_result"
    }
   ],
   "source": [
    "y_test.head()"
   ]
  },
  {
   "cell_type": "code",
   "execution_count": 31,
   "metadata": {},
   "outputs": [
    {
     "data": {
      "text/plain": [
       "1194    0\n",
       "725     0\n",
       "328     0\n",
       "1119    1\n",
       "94      0\n",
       "Name: label, dtype: int64"
      ]
     },
     "execution_count": 31,
     "metadata": {},
     "output_type": "execute_result"
    }
   ],
   "source": [
    "y_train.head()"
   ]
  },
  {
   "cell_type": "markdown",
   "metadata": {},
   "source": [
    "### Pre-Processing"
   ]
  },
  {
   "cell_type": "code",
   "execution_count": 32,
   "metadata": {},
   "outputs": [],
   "source": [
    "#Import Tokenizer\n",
    "from nltk.tokenize import RegexpTokenizer\n",
    "#Removing HTML code artifacts\n",
    "from bs4 import BeautifulSoup  \n",
    "# Import stopwords list\n",
    "from nltk.corpus import stopwords\n",
    "#Import Lemmatizer\n",
    "from nltk.stem import WordNetLemmatizer\n",
    "#Import Regular Expression\n",
    "import regex as re"
   ]
  },
  {
   "cell_type": "markdown",
   "metadata": {},
   "source": [
    "*Added the words 'supplement', and 'supplements' into the stopwords since 'Supplements' happen to be the subreddit title. Other words like eat, cheap, and healthy are possible words that can also appear in subreddit 'Supplemement'. So is not added into the stopwords list.*"
   ]
  },
  {
   "cell_type": "code",
   "execution_count": 33,
   "metadata": {},
   "outputs": [],
   "source": [
    "stopwords = stopwords.words('english')\n",
    "newStopWords = ['supplement','supplements']\n",
    "stopwords.extend(newStopWords)"
   ]
  },
  {
   "cell_type": "code",
   "execution_count": 34,
   "metadata": {},
   "outputs": [
    {
     "data": {
      "text/plain": [
       "{'a',\n",
       " 'about',\n",
       " 'above',\n",
       " 'after',\n",
       " 'again',\n",
       " 'against',\n",
       " 'ain',\n",
       " 'all',\n",
       " 'am',\n",
       " 'an',\n",
       " 'and',\n",
       " 'any',\n",
       " 'are',\n",
       " 'aren',\n",
       " \"aren't\",\n",
       " 'as',\n",
       " 'at',\n",
       " 'be',\n",
       " 'because',\n",
       " 'been',\n",
       " 'before',\n",
       " 'being',\n",
       " 'below',\n",
       " 'between',\n",
       " 'both',\n",
       " 'but',\n",
       " 'by',\n",
       " 'can',\n",
       " 'couldn',\n",
       " \"couldn't\",\n",
       " 'd',\n",
       " 'did',\n",
       " 'didn',\n",
       " \"didn't\",\n",
       " 'do',\n",
       " 'does',\n",
       " 'doesn',\n",
       " \"doesn't\",\n",
       " 'doing',\n",
       " 'don',\n",
       " \"don't\",\n",
       " 'down',\n",
       " 'during',\n",
       " 'each',\n",
       " 'few',\n",
       " 'for',\n",
       " 'from',\n",
       " 'further',\n",
       " 'had',\n",
       " 'hadn',\n",
       " \"hadn't\",\n",
       " 'has',\n",
       " 'hasn',\n",
       " \"hasn't\",\n",
       " 'have',\n",
       " 'haven',\n",
       " \"haven't\",\n",
       " 'having',\n",
       " 'he',\n",
       " 'her',\n",
       " 'here',\n",
       " 'hers',\n",
       " 'herself',\n",
       " 'him',\n",
       " 'himself',\n",
       " 'his',\n",
       " 'how',\n",
       " 'i',\n",
       " 'if',\n",
       " 'in',\n",
       " 'into',\n",
       " 'is',\n",
       " 'isn',\n",
       " \"isn't\",\n",
       " 'it',\n",
       " \"it's\",\n",
       " 'its',\n",
       " 'itself',\n",
       " 'just',\n",
       " 'll',\n",
       " 'm',\n",
       " 'ma',\n",
       " 'me',\n",
       " 'mightn',\n",
       " \"mightn't\",\n",
       " 'more',\n",
       " 'most',\n",
       " 'mustn',\n",
       " \"mustn't\",\n",
       " 'my',\n",
       " 'myself',\n",
       " 'needn',\n",
       " \"needn't\",\n",
       " 'no',\n",
       " 'nor',\n",
       " 'not',\n",
       " 'now',\n",
       " 'o',\n",
       " 'of',\n",
       " 'off',\n",
       " 'on',\n",
       " 'once',\n",
       " 'only',\n",
       " 'or',\n",
       " 'other',\n",
       " 'our',\n",
       " 'ours',\n",
       " 'ourselves',\n",
       " 'out',\n",
       " 'over',\n",
       " 'own',\n",
       " 're',\n",
       " 's',\n",
       " 'same',\n",
       " 'shan',\n",
       " \"shan't\",\n",
       " 'she',\n",
       " \"she's\",\n",
       " 'should',\n",
       " \"should've\",\n",
       " 'shouldn',\n",
       " \"shouldn't\",\n",
       " 'so',\n",
       " 'some',\n",
       " 'such',\n",
       " 'supplement',\n",
       " 'supplements',\n",
       " 't',\n",
       " 'than',\n",
       " 'that',\n",
       " \"that'll\",\n",
       " 'the',\n",
       " 'their',\n",
       " 'theirs',\n",
       " 'them',\n",
       " 'themselves',\n",
       " 'then',\n",
       " 'there',\n",
       " 'these',\n",
       " 'they',\n",
       " 'this',\n",
       " 'those',\n",
       " 'through',\n",
       " 'to',\n",
       " 'too',\n",
       " 'under',\n",
       " 'until',\n",
       " 'up',\n",
       " 've',\n",
       " 'very',\n",
       " 'was',\n",
       " 'wasn',\n",
       " \"wasn't\",\n",
       " 'we',\n",
       " 'were',\n",
       " 'weren',\n",
       " \"weren't\",\n",
       " 'what',\n",
       " 'when',\n",
       " 'where',\n",
       " 'which',\n",
       " 'while',\n",
       " 'who',\n",
       " 'whom',\n",
       " 'why',\n",
       " 'will',\n",
       " 'with',\n",
       " 'won',\n",
       " \"won't\",\n",
       " 'wouldn',\n",
       " \"wouldn't\",\n",
       " 'y',\n",
       " 'you',\n",
       " \"you'd\",\n",
       " \"you'll\",\n",
       " \"you're\",\n",
       " \"you've\",\n",
       " 'your',\n",
       " 'yours',\n",
       " 'yourself',\n",
       " 'yourselves'}"
      ]
     },
     "execution_count": 34,
     "metadata": {},
     "output_type": "execute_result"
    }
   ],
   "source": [
    "#Checking to see 'supplement' and 'supplements' being added.\n",
    "stops = set(stopwords)\n",
    "stops"
   ]
  },
  {
   "cell_type": "code",
   "execution_count": 35,
   "metadata": {},
   "outputs": [],
   "source": [
    "def selftext_to_words(raw_selftext):\n",
    "    # Function to convert raw selftext to a string of words\n",
    "    # Input is a single string (a raw selftext), and \n",
    "    # output is a single string (a preprocessed selftext)\n",
    "    \n",
    "    # 1. Remove HTML.\n",
    "    combine_selftext_BS = BeautifulSoup(raw_selftext)\n",
    "    combine_selftext = combine_selftext_BS.get_text()\n",
    "    \n",
    "    # 2. Remove non-letters.\n",
    "    letters_only = re.sub(\"[^a-zA-Z]\", \" \", combine_selftext)\n",
    "    \n",
    "    # 3.Tokenizing\n",
    "    tokenizer = RegexpTokenizer('[a-zA-z]\\w+')\n",
    "    combine_tokens = tokenizer.tokenize(letters_only)\n",
    "        \n",
    "    # 4. In Python, searching a set is much faster than searching\n",
    "    # a list, so convert the stop words to a set.\n",
    "    stops = set(stopwords)\n",
    "    \n",
    "    # 5. Remove stop words.\n",
    "    remove_stop_words = [w for w in combine_tokens if not w in stops]\n",
    "    \n",
    "    # 6. Lemmatizing\n",
    "    lemmatizer = WordNetLemmatizer()\n",
    "    meaningful_words = [lemmatizer.lemmatize(i) for i in remove_stop_words]\n",
    "    \n",
    "    # 6. Join the words back into one string separated by space, \n",
    "    # and return the result.\n",
    "    return(\" \".join(meaningful_words))"
   ]
  },
  {
   "cell_type": "code",
   "execution_count": 36,
   "metadata": {},
   "outputs": [
    {
     "name": "stdout",
     "output_type": "stream",
     "text": [
      "There are 2142 text.\n"
     ]
    }
   ],
   "source": [
    "# Get the number of reviews based on the dataframe size.\n",
    "total_selftext = combine_df.shape[0]\n",
    "print(f'There are {total_selftext} text.')\n",
    "\n",
    "# Initialize an empty list to hold the clean text.\n",
    "clean_train = []\n",
    "clean_test = []"
   ]
  },
  {
   "cell_type": "code",
   "execution_count": 37,
   "metadata": {
    "scrolled": true
   },
   "outputs": [
    {
     "name": "stdout",
     "output_type": "stream",
     "text": [
      "Cleaning and parsing the training set ...\n",
      "Review 1000 of 2142.\n",
      "Cleaning and parsing the testing set ...\n",
      "Review 2000 of 2142.\n",
      "Cleaning done ...\n"
     ]
    }
   ],
   "source": [
    "print(\"Cleaning and parsing the training set ...\")\n",
    "\n",
    "j = 0\n",
    "for train_selftext in X_train['selftext']:\n",
    "    # Convert review to words, then append to clean_train_reviews.\n",
    "    clean_train.append(selftext_to_words(train_selftext))\n",
    "    \n",
    "    # If the index is divisible by 1000, print a message\n",
    "    if (j + 1) % 1000 == 0:\n",
    "        print(f'Review {j + 1} of {total_selftext}.')\n",
    "    \n",
    "    j += 1\n",
    "\n",
    "print(\"Cleaning and parsing the testing set ...\")    \n",
    "for test_selftext in X_test['selftext']:\n",
    "    # Convert review to words, then append to clean_train_reviews.\n",
    "    clean_test.append(selftext_to_words(test_selftext))\n",
    "    \n",
    "    # If the index is divisible by 1000, print a message\n",
    "    if (j + 1) % 1000 == 0:\n",
    "        print(f'Review {j + 1} of {total_selftext}.')\n",
    "    \n",
    "    j += 1\n",
    "    \n",
    "print(\"Cleaning done ...\")"
   ]
  },
  {
   "cell_type": "markdown",
   "metadata": {},
   "source": []
  },
  {
   "cell_type": "markdown",
   "metadata": {},
   "source": [
    "## Exploratory Data Analysis"
   ]
  },
  {
   "cell_type": "markdown",
   "metadata": {},
   "source": [
    "The WordCloud is from Peekaboo."
   ]
  },
  {
   "cell_type": "code",
   "execution_count": 38,
   "metadata": {},
   "outputs": [],
   "source": [
    "# From https://stackoverflow.com/questions/16645799/how-to-create-a-word-cloud-from-a-corpus-in-python\n",
    "from wordcloud import WordCloud, STOPWORDS\n",
    "stopwords = set(STOPWORDS)\n",
    "\n",
    "def show_wordcloud(data, title = None):\n",
    "    wordcloud = WordCloud(\n",
    "        background_color='black',\n",
    "        stopwords=stopwords,\n",
    "        max_words=200,\n",
    "        max_font_size=40, \n",
    "        scale=3,\n",
    "        random_state=1 # chosen at random by flipping a coin; it was heads\n",
    "    ).generate(str(data))\n",
    "\n",
    "    fig = plt.figure(1, figsize=(12, 12))\n",
    "    plt.axis('off')\n",
    "    if title: \n",
    "        fig.suptitle(title,fontsize=20)\n",
    "        fig.subplots_adjust(top=2.3)\n",
    "\n",
    "    plt.imshow(wordcloud)\n",
    "    plt.show()"
   ]
  },
  {
   "cell_type": "code",
   "execution_count": 39,
   "metadata": {},
   "outputs": [
    {
     "data": {
      "image/png": "[encoded data removed]",
      "text/plain": [
       "<Figure size 864x864 with 1 Axes>"
      ]
     },
     "metadata": {
      "needs_background": "light"
     },
     "output_type": "display_data"
    }
   ],
   "source": [
    "#Showing most frequent appear words in wordcloud.\n",
    "show_wordcloud(clean_train, title = \"Most frequently appeared words in both subreddit post\")"
   ]
  },
  {
   "cell_type": "markdown",
   "metadata": {},
   "source": [
    "### Baseline accuracy"
   ]
  },
  {
   "cell_type": "code",
   "execution_count": 40,
   "metadata": {},
   "outputs": [
    {
     "data": {
      "text/plain": [
       "1    0.504669\n",
       "0    0.495331\n",
       "Name: label, dtype: float64"
      ]
     },
     "execution_count": 40,
     "metadata": {},
     "output_type": "execute_result"
    }
   ],
   "source": [
    "#Calculate baseline accuracy in order to tell if our model is outperforming the null model \n",
    "#(predicting the majority class).\n",
    "combine_df['label'].value_counts(normalize=True)"
   ]
  },
  {
   "cell_type": "markdown",
   "metadata": {},
   "source": [
    "### CountVectorizer"
   ]
  },
  {
   "cell_type": "code",
   "execution_count": 41,
   "metadata": {},
   "outputs": [],
   "source": [
    "# NLP Using a count vectorizer for EDA purpose.\n",
    "from sklearn.feature_extraction.text import CountVectorizer"
   ]
  },
  {
   "cell_type": "code",
   "execution_count": 42,
   "metadata": {},
   "outputs": [
    {
     "data": {
      "text/plain": [
       "CountVectorizer(analyzer='word', binary=False, decode_error='strict',\n",
       "                dtype=<class 'numpy.int64'>, encoding='utf-8', input='content',\n",
       "                lowercase=True, max_df=1.0, max_features=None, min_df=1,\n",
       "                ngram_range=(1, 1), preprocessor=None, stop_words=None,\n",
       "                strip_accents=None, token_pattern='(?u)\\\\b\\\\w\\\\w+\\\\b',\n",
       "                tokenizer=None, vocabulary=None)"
      ]
     },
     "execution_count": 42,
     "metadata": {},
     "output_type": "execute_result"
    }
   ],
   "source": [
    "# Setting the vectorizer\n",
    "cv = CountVectorizer()\n",
    "\n",
    "# Fitting the vectorizer on clean data\n",
    "cv.fit(clean_train)"
   ]
  },
  {
   "cell_type": "code",
   "execution_count": 43,
   "metadata": {},
   "outputs": [
    {
     "data": {
      "text/plain": [
       "8113"
      ]
     },
     "execution_count": 43,
     "metadata": {},
     "output_type": "execute_result"
    }
   ],
   "source": [
    "# Check the length of clean data that is in a vectorized state\n",
    "len(cv.get_feature_names())"
   ]
  },
  {
   "cell_type": "code",
   "execution_count": 44,
   "metadata": {},
   "outputs": [],
   "source": [
    "# Transforming vertorize clean data and converting the result to a DataFrame.\n",
    "cv_df = pd.DataFrame(cv.transform(clean_train).todense(),\n",
    "                       columns=cv.get_feature_names())"
   ]
  },
  {
   "cell_type": "code",
   "execution_count": 45,
   "metadata": {},
   "outputs": [
    {
     "data": {
      "text/plain": [
       "(1606, 8113)"
      ]
     },
     "execution_count": 45,
     "metadata": {},
     "output_type": "execute_result"
    }
   ],
   "source": [
    "cv_df.shape"
   ]
  },
  {
   "cell_type": "code",
   "execution_count": 46,
   "metadata": {},
   "outputs": [
    {
     "name": "stdout",
     "output_type": "stream",
     "text": [
      "8113\n"
     ]
    },
    {
     "data": {
      "text/plain": [
       "like       684\n",
       "day        521\n",
       "make       512\n",
       "take       507\n",
       "would      452\n",
       "also       450\n",
       "get        444\n",
       "time       433\n",
       "chicken    406\n",
       "add        402\n",
       "mg         396\n",
       "know       382\n",
       "eat        380\n",
       "one        380\n",
       "good       374\n",
       "vitamin    371\n",
       "food       369\n",
       "meal       355\n",
       "taking     340\n",
       "recipe     337\n",
       "dtype: int64"
      ]
     },
     "execution_count": 46,
     "metadata": {},
     "output_type": "execute_result"
    }
   ],
   "source": [
    "# Which words appear the most no. of time?\n",
    "word_counts = cv_df.sum(axis=0)\n",
    "print(len(word_counts))\n",
    "word_counts.sort_values(ascending = False).head(20)"
   ]
  },
  {
   "cell_type": "code",
   "execution_count": 47,
   "metadata": {},
   "outputs": [],
   "source": [
    "\n",
    "top_cv_df =pd.DataFrame({'word':cv_df.columns,\n",
    "                         'word_count':cv_df.sum()})\n",
    "top_cv_df = top_cv_df.sort_values('word_count',ascending = False).head(20)"
   ]
  },
  {
   "cell_type": "code",
   "execution_count": 48,
   "metadata": {
    "scrolled": false
   },
   "outputs": [
    {
     "data": {
      "text/plain": [
       "Text(0, 0.5, 'Count')"
      ]
     },
     "execution_count": 48,
     "metadata": {},
     "output_type": "execute_result"
    },
    {
     "data": {
      "text/plain": [
       "<Figure size 1080x576 with 0 Axes>"
      ]
     },
     "metadata": {},
     "output_type": "display_data"
    },
    {
     "data": {
      "image/png": "[encoded data removed]",
      "text/plain": [
       "<Figure size 1080x576 with 1 Axes>"
      ]
     },
     "metadata": {
      "needs_background": "light"
     },
     "output_type": "display_data"
    }
   ],
   "source": [
    "#To view the actual word counts using count vectorizer.\n",
    "fig = plt.figure(figsize=(15,8))\n",
    "top_cv_df.plot(kind = 'bar',figsize=(15, 8), fontsize=15, legend=False, edgecolor='k')\n",
    "plt.tick_params(axis='both', width=15)\n",
    "plt.title(\"Most frequently appeared words in both subreddit post\", fontsize = 20)\n",
    "plt.xlabel(\"Word\", fontsize = 20)\n",
    "plt.ylabel(\"Count\", fontsize = 20)"
   ]
  },
  {
   "cell_type": "code",
   "execution_count": 49,
   "metadata": {},
   "outputs": [],
   "source": [
    "#Convert to dataframe for common words in subreddit post 'EatCheapAndHealthy'\n",
    "top_eat_df =pd.DataFrame({'word':cv_df[(np.array(y_train))==0],\n",
    "                         'word_count':cv_df[(np.array(y_train))==0].sum(axis=0)})\n",
    "top_eat_df = top_eat_df.sort_values('word_count',ascending = False).head(15)"
   ]
  },
  {
   "cell_type": "code",
   "execution_count": 50,
   "metadata": {},
   "outputs": [],
   "source": [
    "#Convert to dataframe for common words in subreddit post 'Supplements'\n",
    "top_supple_df =pd.DataFrame({'word':cv_df[(np.array(y_train))==1],\n",
    "                         'word_count':cv_df[(np.array(y_train))==1].sum(axis=0)})\n",
    "top_supple_df = top_supple_df.sort_values('word_count',ascending = False).head(15)"
   ]
  },
  {
   "cell_type": "code",
   "execution_count": 51,
   "metadata": {
    "scrolled": false
   },
   "outputs": [
    {
     "data": {
      "image/png": "[encoded data removed]",
      "text/plain": [
       "<Figure size 1800x936 with 2 Axes>"
      ]
     },
     "metadata": {
      "needs_background": "light"
     },
     "output_type": "display_data"
    }
   ],
   "source": [
    "fig = plt.figure(figsize=(25,13))\n",
    "\n",
    "ax= fig.add_subplot(1,2,1)\n",
    "#top_eat_df.plot(kind = 'barh',figsize=(8, 8), fontsize=12,legend=False);\n",
    "plt.barh(top_eat_df.index,top_eat_df['word_count'], color='orange', edgecolor='k');\n",
    "plt.title(\"Most frequent words in subreddit: EatCheapAndHealthy\", fontsize = 25)\n",
    "plt.xlabel(\"Count\", fontsize = 23)\n",
    "plt.ylabel(\"Word\", fontsize = 23)\n",
    "plt.tick_params(axis='both', labelsize = 18)\n",
    "\n",
    "ax= fig.add_subplot(1,2,2)\n",
    "#top_supple_df.plot(kind = 'barh',figsize=(8, 8), fontsize=12,legend=False);\n",
    "plt.barh(top_supple_df.index,top_supple_df['word_count'], color='purple',edgecolor='k' );\n",
    "plt.title(\"Most frequent words in subreddit: Supplements\", fontsize = 25)\n",
    "plt.xlabel(\"Count\", fontsize = 23)\n",
    "plt.ylabel(\"Word\", fontsize = 23)\n",
    "plt.tick_params(axis='both', labelsize = 18)\n",
    "\n"
   ]
  },
  {
   "cell_type": "markdown",
   "metadata": {},
   "source": [
    "## Model 1 - Logistic Regresssion"
   ]
  },
  {
   "cell_type": "markdown",
   "metadata": {},
   "source": [
    "### 1a) Pipeline"
   ]
  },
  {
   "cell_type": "code",
   "execution_count": 52,
   "metadata": {},
   "outputs": [],
   "source": [
    "from sklearn.pipeline import Pipeline\n",
    "from sklearn.linear_model import LogisticRegression\n",
    "\n",
    "pipe_lr = Pipeline([('cvec', CountVectorizer()),\n",
    "                  ('lr', LogisticRegression())\n",
    "])"
   ]
  },
  {
   "cell_type": "markdown",
   "metadata": {},
   "source": [
    "### 1b) Hyperparameters Tuning - Using GridSearchCV"
   ]
  },
  {
   "cell_type": "code",
   "execution_count": 53,
   "metadata": {},
   "outputs": [],
   "source": [
    "from sklearn.model_selection import GridSearchCV\n",
    "#For CountVectorizer:\n",
    "pipe_params_cv = {\n",
    "    'cvec__max_features': [2000, 2500, 3000, 3500],\n",
    "    'cvec__min_df': [2, 3],\n",
    "    'cvec__max_df': [.9, .95],\n",
    "    'cvec__ngram_range': [(1,1), (1,2)]\n",
    "}"
   ]
  },
  {
   "cell_type": "code",
   "execution_count": 54,
   "metadata": {},
   "outputs": [
    {
     "name": "stdout",
     "output_type": "stream",
     "text": [
      "Best: 0.942715 using {'cvec__max_df': 0.9, 'cvec__max_features': 3000, 'cvec__min_df': 3, 'cvec__ngram_range': (1, 1)}\n",
      "Execution time: 27.999130964279175 ms\n"
     ]
    }
   ],
   "source": [
    "start_time = time.time()\n",
    "gs = GridSearchCV(pipe_lr, param_grid=pipe_params_cv, cv=5)\n",
    "model1 = gs.fit(clean_train, y_train)\n",
    "\n",
    "print(\"Best: %f using %s\" % (model1.best_score_, model1.best_params_))\n",
    "print(\"Execution time: \" + str((time.time() - start_time)) + ' ms')"
   ]
  },
  {
   "cell_type": "code",
   "execution_count": 55,
   "metadata": {},
   "outputs": [
    {
     "data": {
      "text/plain": [
       "0.9925280199252802"
      ]
     },
     "execution_count": 55,
     "metadata": {},
     "output_type": "execute_result"
    }
   ],
   "source": [
    "model1.score(clean_train, y_train)"
   ]
  },
  {
   "cell_type": "code",
   "execution_count": 56,
   "metadata": {},
   "outputs": [
    {
     "data": {
      "text/plain": [
       "0.9291044776119403"
      ]
     },
     "execution_count": 56,
     "metadata": {},
     "output_type": "execute_result"
    }
   ],
   "source": [
    "model1.score(clean_test, y_test)"
   ]
  },
  {
   "cell_type": "markdown",
   "metadata": {},
   "source": [
    "*Logistic regression is extremely overfitted. The test data did not score as good as the training data. However, i think result is still pretty good overall.*"
   ]
  },
  {
   "cell_type": "code",
   "execution_count": null,
   "metadata": {},
   "outputs": [],
   "source": []
  },
  {
   "cell_type": "markdown",
   "metadata": {},
   "source": [
    "## Model 2 - Naive Bayes"
   ]
  },
  {
   "cell_type": "markdown",
   "metadata": {},
   "source": [
    "There are 3 types of Naive Bayes modelling (BernoulliNB, MultinomialNB, GaussianNB), i decided to pick MultinomialNB since columns of X are all interger count."
   ]
  },
  {
   "cell_type": "markdown",
   "metadata": {},
   "source": [
    "### 2a) Pipeline"
   ]
  },
  {
   "cell_type": "code",
   "execution_count": 57,
   "metadata": {},
   "outputs": [],
   "source": [
    "from sklearn.naive_bayes import MultinomialNB\n",
    "\n",
    "pipe_nb = Pipeline([('cvec', CountVectorizer()),\n",
    "                  ('nb', MultinomialNB())\n",
    "])"
   ]
  },
  {
   "cell_type": "markdown",
   "metadata": {},
   "source": [
    "### 2b) Hyperparameters Tuning"
   ]
  },
  {
   "cell_type": "code",
   "execution_count": 58,
   "metadata": {},
   "outputs": [
    {
     "name": "stdout",
     "output_type": "stream",
     "text": [
      "Best: 0.928394 using {'cvec__max_df': 0.9, 'cvec__max_features': 3500, 'cvec__min_df': 2, 'cvec__ngram_range': (1, 2)}\n",
      "Execution time: 66.29449105262756 ms\n"
     ]
    }
   ],
   "source": [
    "gs_nb = GridSearchCV(pipe_nb, param_grid=pipe_params_cv, cv=5)\n",
    "model2 = gs_nb.fit(clean_train, y_train)\n",
    "print(\"Best: %f using %s\" % (model2.best_score_, model2.best_params_))\n",
    "print(\"Execution time: \" + str((time.time() - start_time)) + ' ms')"
   ]
  },
  {
   "cell_type": "code",
   "execution_count": 59,
   "metadata": {},
   "outputs": [
    {
     "data": {
      "text/plain": [
       "0.9445828144458281"
      ]
     },
     "execution_count": 59,
     "metadata": {},
     "output_type": "execute_result"
    }
   ],
   "source": [
    "model2.score(clean_train, y_train)"
   ]
  },
  {
   "cell_type": "code",
   "execution_count": 60,
   "metadata": {
    "scrolled": true
   },
   "outputs": [
    {
     "data": {
      "text/plain": [
       "0.9421641791044776"
      ]
     },
     "execution_count": 60,
     "metadata": {},
     "output_type": "execute_result"
    }
   ],
   "source": [
    "model2.score(clean_test, y_test)"
   ]
  },
  {
   "cell_type": "markdown",
   "metadata": {},
   "source": [
    "*Naive Bayes MultinomialNB has a good score for both the training and testing set. Both results is quite close. The Naive Bayes model performs better than the Logistic regression. However, computational time with Hyperparameters tuning is longer than Logistic regression*"
   ]
  },
  {
   "cell_type": "code",
   "execution_count": 61,
   "metadata": {},
   "outputs": [
    {
     "data": {
      "text/plain": [
       "array([[1.00000000e+00, 9.30784503e-15],\n",
       "       [1.00000000e+00, 3.28891609e-11],\n",
       "       [4.05107231e-43, 1.00000000e+00],\n",
       "       ...,\n",
       "       [2.45129295e-10, 1.00000000e+00],\n",
       "       [2.07796955e-02, 9.79220305e-01],\n",
       "       [1.00000000e+00, 5.23919364e-11]])"
      ]
     },
     "execution_count": 61,
     "metadata": {},
     "output_type": "execute_result"
    }
   ],
   "source": [
    "model2.predict_proba(clean_test)"
   ]
  },
  {
   "cell_type": "markdown",
   "metadata": {},
   "source": []
  },
  {
   "cell_type": "markdown",
   "metadata": {},
   "source": [
    "## Model 3 - Random Forest"
   ]
  },
  {
   "cell_type": "code",
   "execution_count": 62,
   "metadata": {},
   "outputs": [],
   "source": [
    "from sklearn.ensemble import RandomForestClassifier"
   ]
  },
  {
   "cell_type": "markdown",
   "metadata": {},
   "source": [
    "### 3a) Pipeline"
   ]
  },
  {
   "cell_type": "code",
   "execution_count": 63,
   "metadata": {},
   "outputs": [],
   "source": [
    "pipe_rf = Pipeline([('cvec', CountVectorizer()),\n",
    "                  ('rf', RandomForestClassifier())\n",
    "])"
   ]
  },
  {
   "cell_type": "markdown",
   "metadata": {},
   "source": [
    "### 3b) Hyperparameters Tuning"
   ]
  },
  {
   "cell_type": "code",
   "execution_count": 64,
   "metadata": {},
   "outputs": [
    {
     "name": "stdout",
     "output_type": "stream",
     "text": [
      "Best: 0.922167 using {'cvec__max_df': 0.95, 'cvec__max_features': 2500, 'cvec__min_df': 3, 'cvec__ngram_range': (1, 1)}\n",
      "Execution time: 264.37051367759705 ms\n"
     ]
    }
   ],
   "source": [
    "cvec_rf_params = {\n",
    "    'cvec__max_features': [2000, 2500, 3000, 3500],\n",
    "    'cvec__min_df': [2, 3],\n",
    "    'cvec__max_df': [.9, .95],\n",
    "    'cvec__ngram_range': [(1,1), (1,2)],\n",
    "    #'rf__n_estimators': [100, 150, 200],\n",
    "    #'rf__max_depth': [None, 1, 2, 3],\n",
    "}\n",
    "gs_rf = GridSearchCV(pipe_rf , param_grid=cvec_rf_params, cv=5)\n",
    "model3= gs_rf.fit(clean_train, y_train)\n",
    "print(\"Best: %f using %s\" % (model3.best_score_, model3.best_params_))\n",
    "print(\"Execution time: \" + str((time.time() - start_time)) + ' ms')"
   ]
  },
  {
   "cell_type": "code",
   "execution_count": 65,
   "metadata": {},
   "outputs": [
    {
     "data": {
      "text/plain": [
       "0.9968866749688667"
      ]
     },
     "execution_count": 65,
     "metadata": {},
     "output_type": "execute_result"
    }
   ],
   "source": [
    "gs_rf.score(clean_train, y_train)"
   ]
  },
  {
   "cell_type": "code",
   "execution_count": 66,
   "metadata": {},
   "outputs": [
    {
     "data": {
      "text/plain": [
       "0.9968866749688667"
      ]
     },
     "execution_count": 66,
     "metadata": {},
     "output_type": "execute_result"
    }
   ],
   "source": [
    "gs_rf.score(clean_train, y_train)"
   ]
  },
  {
   "cell_type": "markdown",
   "metadata": {},
   "source": [
    "*Among the 3 models, Random Forest has the best results for both the train set and test set. Thou Random Forest perform pretty well, they are not as easy to visually interpret. Execution time is also longest among the 3 models with just tuning on the count vectorizers only.*"
   ]
  },
  {
   "cell_type": "markdown",
   "metadata": {},
   "source": []
  },
  {
   "cell_type": "markdown",
   "metadata": {},
   "source": [
    "- All 3 models appears be extremely overfit. I probably could have\n",
    "  - collect more data, \n",
    "  - use fewer features by setting `max_features` to a smaller number when instantiating our CountVectorizer,\n",
    "  - try TF-IDF Vectorizer\n",
    "- Both training performance and testing performance are pretty close, so there are not a lot of changes required."
   ]
  },
  {
   "cell_type": "markdown",
   "metadata": {},
   "source": [
    "## Model Selection"
   ]
  },
  {
   "cell_type": "markdown",
   "metadata": {},
   "source": [
    "*Base on the 3 models, I have decided to select Model 2 which is the Naive Bayes modelling (MultinomialNB) as my final model. It did not perfrom as good as Model 3 (Random Forest), but is more easily interpretable and shorter computational time. Using Model 2, i will continue to do the confusion matirix and the ROC AUC.*"
   ]
  },
  {
   "cell_type": "code",
   "execution_count": 67,
   "metadata": {},
   "outputs": [],
   "source": [
    "# Generate our predictions.\n",
    "predictions = model2.predict(clean_test)"
   ]
  },
  {
   "cell_type": "code",
   "execution_count": 68,
   "metadata": {},
   "outputs": [],
   "source": [
    "# Import the confusion matrix function.\n",
    "from sklearn.metrics import confusion_matrix"
   ]
  },
  {
   "cell_type": "code",
   "execution_count": 69,
   "metadata": {},
   "outputs": [
    {
     "data": {
      "text/plain": [
       "array([[243,  22],\n",
       "       [  9, 262]], dtype=int64)"
      ]
     },
     "execution_count": 69,
     "metadata": {},
     "output_type": "execute_result"
    }
   ],
   "source": [
    "# Generate a confusion matrix.\n",
    "cm = confusion_matrix(y_test, predictions)\n",
    "cm"
   ]
  },
  {
   "cell_type": "code",
   "execution_count": 70,
   "metadata": {},
   "outputs": [],
   "source": [
    "tn, fp, fn, tp = cm.ravel()"
   ]
  },
  {
   "cell_type": "code",
   "execution_count": 71,
   "metadata": {},
   "outputs": [
    {
     "name": "stdout",
     "output_type": "stream",
     "text": [
      "True Negatives: 243\n",
      "False Positives: 22\n",
      "False Negatives: 9\n",
      "True Positives: 262\n"
     ]
    }
   ],
   "source": [
    "print(\"True Negatives: %s\" % tn)\n",
    "print(\"False Positives: %s\" % fp)\n",
    "print(\"False Negatives: %s\" % fn)\n",
    "print(\"True Positives: %s\" % tp)"
   ]
  },
  {
   "cell_type": "code",
   "execution_count": 72,
   "metadata": {},
   "outputs": [
    {
     "data": {
      "text/html": [
       "<div>\n",
       "<style scoped>\n",
       "    .dataframe tbody tr th:only-of-type {\n",
       "        vertical-align: middle;\n",
       "    }\n",
       "\n",
       "    .dataframe tbody tr th {\n",
       "        vertical-align: top;\n",
       "    }\n",
       "\n",
       "    .dataframe thead th {\n",
       "        text-align: right;\n",
       "    }\n",
       "</style>\n",
       "<table border=\"1\" class=\"dataframe\">\n",
       "  <thead>\n",
       "    <tr style=\"text-align: right;\">\n",
       "      <th></th>\n",
       "      <th>Pred. Supplement</th>\n",
       "      <th>Pred. EatCheapAndHealthy</th>\n",
       "    </tr>\n",
       "  </thead>\n",
       "  <tbody>\n",
       "    <tr>\n",
       "      <th>Actual Supplement</th>\n",
       "      <td>243</td>\n",
       "      <td>22</td>\n",
       "    </tr>\n",
       "    <tr>\n",
       "      <th>Actual EatCheapAndHealthy</th>\n",
       "      <td>9</td>\n",
       "      <td>262</td>\n",
       "    </tr>\n",
       "  </tbody>\n",
       "</table>\n",
       "</div>"
      ],
      "text/plain": [
       "                           Pred. Supplement  Pred. EatCheapAndHealthy\n",
       "Actual Supplement                       243                        22\n",
       "Actual EatCheapAndHealthy                 9                       262"
      ]
     },
     "execution_count": 72,
     "metadata": {},
     "output_type": "execute_result"
    }
   ],
   "source": [
    "cm_df = pd.DataFrame(cm, columns=['Pred. Supplement', 'Pred. EatCheapAndHealthy'], index=['Actual Supplement', 'Actual EatCheapAndHealthy'])\n",
    "cm_df"
   ]
  },
  {
   "cell_type": "code",
   "execution_count": 73,
   "metadata": {},
   "outputs": [
    {
     "name": "stdout",
     "output_type": "stream",
     "text": [
      "Accuracy: 0.9422\n"
     ]
    }
   ],
   "source": [
    "accuracy = (tp + tn) / (tp + tn + fp + fn)\n",
    "print(f'Accuracy: {round(accuracy,4)}')"
   ]
  },
  {
   "cell_type": "code",
   "execution_count": 74,
   "metadata": {},
   "outputs": [
    {
     "name": "stdout",
     "output_type": "stream",
     "text": [
      "Specificity: 0.917\n"
     ]
    }
   ],
   "source": [
    "specificity = tn / (tn + fp)\n",
    "print(f'Specificity: {round(specificity,4)}')"
   ]
  },
  {
   "cell_type": "code",
   "execution_count": 75,
   "metadata": {},
   "outputs": [
    {
     "name": "stdout",
     "output_type": "stream",
     "text": [
      "sensitivity: 0.9668\n"
     ]
    }
   ],
   "source": [
    "sensitivity = tp / (tp + fn)\n",
    "print(f'sensitivity: {round(sensitivity,4)}')"
   ]
  },
  {
   "cell_type": "markdown",
   "metadata": {},
   "source": [
    "#### ROC AUC Curve"
   ]
  },
  {
   "cell_type": "code",
   "execution_count": 76,
   "metadata": {
    "collapsed": true
   },
   "outputs": [
    {
     "data": {
      "text/html": [
       "<div>\n",
       "<style scoped>\n",
       "    .dataframe tbody tr th:only-of-type {\n",
       "        vertical-align: middle;\n",
       "    }\n",
       "\n",
       "    .dataframe tbody tr th {\n",
       "        vertical-align: top;\n",
       "    }\n",
       "\n",
       "    .dataframe thead th {\n",
       "        text-align: right;\n",
       "    }\n",
       "</style>\n",
       "<table border=\"1\" class=\"dataframe\">\n",
       "  <thead>\n",
       "    <tr style=\"text-align: right;\">\n",
       "      <th></th>\n",
       "      <th>true_values</th>\n",
       "      <th>pred_probs</th>\n",
       "    </tr>\n",
       "  </thead>\n",
       "  <tbody>\n",
       "    <tr>\n",
       "      <th>1667</th>\n",
       "      <td>0</td>\n",
       "      <td>9.307845e-15</td>\n",
       "    </tr>\n",
       "    <tr>\n",
       "      <th>650</th>\n",
       "      <td>0</td>\n",
       "      <td>3.288916e-11</td>\n",
       "    </tr>\n",
       "    <tr>\n",
       "      <th>1283</th>\n",
       "      <td>1</td>\n",
       "      <td>1.000000e+00</td>\n",
       "    </tr>\n",
       "    <tr>\n",
       "      <th>2019</th>\n",
       "      <td>0</td>\n",
       "      <td>2.740375e-02</td>\n",
       "    </tr>\n",
       "    <tr>\n",
       "      <th>1966</th>\n",
       "      <td>1</td>\n",
       "      <td>1.000000e+00</td>\n",
       "    </tr>\n",
       "    <tr>\n",
       "      <th>121</th>\n",
       "      <td>1</td>\n",
       "      <td>9.999996e-01</td>\n",
       "    </tr>\n",
       "    <tr>\n",
       "      <th>1723</th>\n",
       "      <td>0</td>\n",
       "      <td>2.708573e-09</td>\n",
       "    </tr>\n",
       "    <tr>\n",
       "      <th>464</th>\n",
       "      <td>0</td>\n",
       "      <td>7.313736e-49</td>\n",
       "    </tr>\n",
       "    <tr>\n",
       "      <th>1890</th>\n",
       "      <td>0</td>\n",
       "      <td>1.274956e-18</td>\n",
       "    </tr>\n",
       "    <tr>\n",
       "      <th>1003</th>\n",
       "      <td>0</td>\n",
       "      <td>5.681886e-02</td>\n",
       "    </tr>\n",
       "    <tr>\n",
       "      <th>396</th>\n",
       "      <td>0</td>\n",
       "      <td>2.301236e-07</td>\n",
       "    </tr>\n",
       "    <tr>\n",
       "      <th>1991</th>\n",
       "      <td>0</td>\n",
       "      <td>1.248817e-175</td>\n",
       "    </tr>\n",
       "    <tr>\n",
       "      <th>282</th>\n",
       "      <td>1</td>\n",
       "      <td>1.000000e+00</td>\n",
       "    </tr>\n",
       "    <tr>\n",
       "      <th>34</th>\n",
       "      <td>0</td>\n",
       "      <td>7.397558e-125</td>\n",
       "    </tr>\n",
       "    <tr>\n",
       "      <th>829</th>\n",
       "      <td>1</td>\n",
       "      <td>1.000000e+00</td>\n",
       "    </tr>\n",
       "    <tr>\n",
       "      <th>305</th>\n",
       "      <td>1</td>\n",
       "      <td>9.999010e-01</td>\n",
       "    </tr>\n",
       "    <tr>\n",
       "      <th>1037</th>\n",
       "      <td>0</td>\n",
       "      <td>5.043587e-01</td>\n",
       "    </tr>\n",
       "    <tr>\n",
       "      <th>1483</th>\n",
       "      <td>0</td>\n",
       "      <td>5.797545e-14</td>\n",
       "    </tr>\n",
       "    <tr>\n",
       "      <th>886</th>\n",
       "      <td>0</td>\n",
       "      <td>2.632109e-37</td>\n",
       "    </tr>\n",
       "    <tr>\n",
       "      <th>1596</th>\n",
       "      <td>0</td>\n",
       "      <td>7.053651e-63</td>\n",
       "    </tr>\n",
       "    <tr>\n",
       "      <th>279</th>\n",
       "      <td>1</td>\n",
       "      <td>1.000000e+00</td>\n",
       "    </tr>\n",
       "    <tr>\n",
       "      <th>1573</th>\n",
       "      <td>1</td>\n",
       "      <td>1.000000e+00</td>\n",
       "    </tr>\n",
       "    <tr>\n",
       "      <th>1778</th>\n",
       "      <td>1</td>\n",
       "      <td>9.999999e-01</td>\n",
       "    </tr>\n",
       "    <tr>\n",
       "      <th>2051</th>\n",
       "      <td>0</td>\n",
       "      <td>8.366718e-16</td>\n",
       "    </tr>\n",
       "    <tr>\n",
       "      <th>250</th>\n",
       "      <td>0</td>\n",
       "      <td>8.336614e-10</td>\n",
       "    </tr>\n",
       "    <tr>\n",
       "      <th>1053</th>\n",
       "      <td>1</td>\n",
       "      <td>9.772890e-01</td>\n",
       "    </tr>\n",
       "    <tr>\n",
       "      <th>541</th>\n",
       "      <td>1</td>\n",
       "      <td>1.000000e+00</td>\n",
       "    </tr>\n",
       "    <tr>\n",
       "      <th>124</th>\n",
       "      <td>0</td>\n",
       "      <td>8.925013e-05</td>\n",
       "    </tr>\n",
       "    <tr>\n",
       "      <th>1652</th>\n",
       "      <td>1</td>\n",
       "      <td>9.999976e-01</td>\n",
       "    </tr>\n",
       "    <tr>\n",
       "      <th>1976</th>\n",
       "      <td>0</td>\n",
       "      <td>1.575179e-01</td>\n",
       "    </tr>\n",
       "    <tr>\n",
       "      <th>...</th>\n",
       "      <td>...</td>\n",
       "      <td>...</td>\n",
       "    </tr>\n",
       "    <tr>\n",
       "      <th>1808</th>\n",
       "      <td>1</td>\n",
       "      <td>9.994690e-01</td>\n",
       "    </tr>\n",
       "    <tr>\n",
       "      <th>1431</th>\n",
       "      <td>0</td>\n",
       "      <td>2.313713e-51</td>\n",
       "    </tr>\n",
       "    <tr>\n",
       "      <th>1318</th>\n",
       "      <td>1</td>\n",
       "      <td>1.000000e+00</td>\n",
       "    </tr>\n",
       "    <tr>\n",
       "      <th>344</th>\n",
       "      <td>0</td>\n",
       "      <td>2.198377e-02</td>\n",
       "    </tr>\n",
       "    <tr>\n",
       "      <th>2023</th>\n",
       "      <td>1</td>\n",
       "      <td>1.000000e+00</td>\n",
       "    </tr>\n",
       "    <tr>\n",
       "      <th>2138</th>\n",
       "      <td>0</td>\n",
       "      <td>1.299818e-318</td>\n",
       "    </tr>\n",
       "    <tr>\n",
       "      <th>359</th>\n",
       "      <td>0</td>\n",
       "      <td>4.387950e-73</td>\n",
       "    </tr>\n",
       "    <tr>\n",
       "      <th>1062</th>\n",
       "      <td>1</td>\n",
       "      <td>9.520438e-01</td>\n",
       "    </tr>\n",
       "    <tr>\n",
       "      <th>281</th>\n",
       "      <td>0</td>\n",
       "      <td>3.307727e-85</td>\n",
       "    </tr>\n",
       "    <tr>\n",
       "      <th>961</th>\n",
       "      <td>1</td>\n",
       "      <td>9.999988e-01</td>\n",
       "    </tr>\n",
       "    <tr>\n",
       "      <th>335</th>\n",
       "      <td>1</td>\n",
       "      <td>1.000000e+00</td>\n",
       "    </tr>\n",
       "    <tr>\n",
       "      <th>555</th>\n",
       "      <td>1</td>\n",
       "      <td>9.917533e-01</td>\n",
       "    </tr>\n",
       "    <tr>\n",
       "      <th>1518</th>\n",
       "      <td>0</td>\n",
       "      <td>6.290964e-22</td>\n",
       "    </tr>\n",
       "    <tr>\n",
       "      <th>624</th>\n",
       "      <td>1</td>\n",
       "      <td>1.000000e+00</td>\n",
       "    </tr>\n",
       "    <tr>\n",
       "      <th>946</th>\n",
       "      <td>0</td>\n",
       "      <td>1.272645e-08</td>\n",
       "    </tr>\n",
       "    <tr>\n",
       "      <th>1844</th>\n",
       "      <td>1</td>\n",
       "      <td>1.000000e+00</td>\n",
       "    </tr>\n",
       "    <tr>\n",
       "      <th>1988</th>\n",
       "      <td>0</td>\n",
       "      <td>2.668993e-19</td>\n",
       "    </tr>\n",
       "    <tr>\n",
       "      <th>1776</th>\n",
       "      <td>0</td>\n",
       "      <td>1.718752e-09</td>\n",
       "    </tr>\n",
       "    <tr>\n",
       "      <th>809</th>\n",
       "      <td>0</td>\n",
       "      <td>1.600434e-04</td>\n",
       "    </tr>\n",
       "    <tr>\n",
       "      <th>1914</th>\n",
       "      <td>1</td>\n",
       "      <td>1.000000e+00</td>\n",
       "    </tr>\n",
       "    <tr>\n",
       "      <th>1584</th>\n",
       "      <td>0</td>\n",
       "      <td>5.538947e-37</td>\n",
       "    </tr>\n",
       "    <tr>\n",
       "      <th>120</th>\n",
       "      <td>0</td>\n",
       "      <td>1.857195e-20</td>\n",
       "    </tr>\n",
       "    <tr>\n",
       "      <th>1990</th>\n",
       "      <td>1</td>\n",
       "      <td>9.999495e-01</td>\n",
       "    </tr>\n",
       "    <tr>\n",
       "      <th>352</th>\n",
       "      <td>0</td>\n",
       "      <td>3.624485e-16</td>\n",
       "    </tr>\n",
       "    <tr>\n",
       "      <th>536</th>\n",
       "      <td>0</td>\n",
       "      <td>5.956407e-12</td>\n",
       "    </tr>\n",
       "    <tr>\n",
       "      <th>1912</th>\n",
       "      <td>0</td>\n",
       "      <td>9.982079e-13</td>\n",
       "    </tr>\n",
       "    <tr>\n",
       "      <th>773</th>\n",
       "      <td>0</td>\n",
       "      <td>2.708573e-09</td>\n",
       "    </tr>\n",
       "    <tr>\n",
       "      <th>462</th>\n",
       "      <td>1</td>\n",
       "      <td>1.000000e+00</td>\n",
       "    </tr>\n",
       "    <tr>\n",
       "      <th>54</th>\n",
       "      <td>1</td>\n",
       "      <td>9.792203e-01</td>\n",
       "    </tr>\n",
       "    <tr>\n",
       "      <th>716</th>\n",
       "      <td>0</td>\n",
       "      <td>5.239194e-11</td>\n",
       "    </tr>\n",
       "  </tbody>\n",
       "</table>\n",
       "<p>536 rows × 2 columns</p>\n",
       "</div>"
      ],
      "text/plain": [
       "      true_values     pred_probs\n",
       "1667            0   9.307845e-15\n",
       "650             0   3.288916e-11\n",
       "1283            1   1.000000e+00\n",
       "2019            0   2.740375e-02\n",
       "1966            1   1.000000e+00\n",
       "121             1   9.999996e-01\n",
       "1723            0   2.708573e-09\n",
       "464             0   7.313736e-49\n",
       "1890            0   1.274956e-18\n",
       "1003            0   5.681886e-02\n",
       "396             0   2.301236e-07\n",
       "1991            0  1.248817e-175\n",
       "282             1   1.000000e+00\n",
       "34              0  7.397558e-125\n",
       "829             1   1.000000e+00\n",
       "305             1   9.999010e-01\n",
       "1037            0   5.043587e-01\n",
       "1483            0   5.797545e-14\n",
       "886             0   2.632109e-37\n",
       "1596            0   7.053651e-63\n",
       "279             1   1.000000e+00\n",
       "1573            1   1.000000e+00\n",
       "1778            1   9.999999e-01\n",
       "2051            0   8.366718e-16\n",
       "250             0   8.336614e-10\n",
       "1053            1   9.772890e-01\n",
       "541             1   1.000000e+00\n",
       "124             0   8.925013e-05\n",
       "1652            1   9.999976e-01\n",
       "1976            0   1.575179e-01\n",
       "...           ...            ...\n",
       "1808            1   9.994690e-01\n",
       "1431            0   2.313713e-51\n",
       "1318            1   1.000000e+00\n",
       "344             0   2.198377e-02\n",
       "2023            1   1.000000e+00\n",
       "2138            0  1.299818e-318\n",
       "359             0   4.387950e-73\n",
       "1062            1   9.520438e-01\n",
       "281             0   3.307727e-85\n",
       "961             1   9.999988e-01\n",
       "335             1   1.000000e+00\n",
       "555             1   9.917533e-01\n",
       "1518            0   6.290964e-22\n",
       "624             1   1.000000e+00\n",
       "946             0   1.272645e-08\n",
       "1844            1   1.000000e+00\n",
       "1988            0   2.668993e-19\n",
       "1776            0   1.718752e-09\n",
       "809             0   1.600434e-04\n",
       "1914            1   1.000000e+00\n",
       "1584            0   5.538947e-37\n",
       "120             0   1.857195e-20\n",
       "1990            1   9.999495e-01\n",
       "352             0   3.624485e-16\n",
       "536             0   5.956407e-12\n",
       "1912            0   9.982079e-13\n",
       "773             0   2.708573e-09\n",
       "462             1   1.000000e+00\n",
       "54              1   9.792203e-01\n",
       "716             0   5.239194e-11\n",
       "\n",
       "[536 rows x 2 columns]"
      ]
     },
     "execution_count": 76,
     "metadata": {},
     "output_type": "execute_result"
    }
   ],
   "source": [
    "from sklearn.metrics import roc_auc_score\n",
    "\n",
    "# Create dataframe called pred_df that contains:\n",
    "# 1. The list of true values of our test set.\n",
    "# 2. The list of predicted probabilities based on our model2.\n",
    "\n",
    "pred_proba = [i[1] for i in gs_nb.predict_proba(clean_test)]\n",
    "\n",
    "pred_df = pd.DataFrame({'true_values': y_test,\n",
    "                        'pred_probs':pred_proba})\n",
    "pred_df"
   ]
  },
  {
   "cell_type": "code",
   "execution_count": 77,
   "metadata": {},
   "outputs": [
    {
     "data": {
      "text/plain": [
       "0.9821694632040661"
      ]
     },
     "execution_count": 77,
     "metadata": {},
     "output_type": "execute_result"
    }
   ],
   "source": [
    "roc_auc_score(pred_df['true_values'], pred_df['pred_probs'])"
   ]
  },
  {
   "cell_type": "code",
   "execution_count": 78,
   "metadata": {},
   "outputs": [
    {
     "data": {
      "image/png": "[encoded data removed]",
      "text/plain": [
       "<Figure size 720x504 with 1 Axes>"
      ]
     },
     "metadata": {
      "needs_background": "light"
     },
     "output_type": "display_data"
    }
   ],
   "source": [
    "# Create figure.\n",
    "plt.figure(figsize = (10,7))\n",
    "\n",
    "# Create threshold values. (Dashed red line in image.)\n",
    "thresholds = np.linspace(0, 1, 200)\n",
    "\n",
    "# Define function to calculate sensitivity. (True positive rate.)\n",
    "def TPR(df, true_col, pred_prob_col, threshold):\n",
    "    true_positive = df[(df[true_col] == 1) & (df[pred_prob_col] >= threshold)].shape[0]\n",
    "    false_negative = df[(df[true_col] == 1) & (df[pred_prob_col] < threshold)].shape[0]\n",
    "    return true_positive / (true_positive + false_negative)\n",
    "    \n",
    "\n",
    "# Define function to calculate 1 - specificity. (False positive rate.)\n",
    "def FPR(df, true_col, pred_prob_col, threshold):\n",
    "    true_negative = df[(df[true_col] == 0) & (df[pred_prob_col] <= threshold)].shape[0]\n",
    "    false_positive = df[(df[true_col] == 0) & (df[pred_prob_col] > threshold)].shape[0]\n",
    "    return 1 - (true_negative / (true_negative + false_positive))\n",
    "    \n",
    "# Calculate sensitivity & 1-specificity for each threshold between 0 and 1.\n",
    "tpr_values = [TPR(pred_df, 'true_values', 'pred_probs', prob) for prob in thresholds]\n",
    "fpr_values = [FPR(pred_df, 'true_values', 'pred_probs', prob) for prob in thresholds]\n",
    "\n",
    "# Plot ROC curve.\n",
    "plt.plot(fpr_values, # False Positive Rate on X-axis\n",
    "         tpr_values, # True Positive Rate on Y-axis\n",
    "         label='ROC Curve')\n",
    "\n",
    "# Plot baseline. (Perfect overlap between the two populations.)\n",
    "plt.plot(np.linspace(0, 1, 200),\n",
    "         np.linspace(0, 1, 200),\n",
    "         label='baseline',\n",
    "         linestyle='--')\n",
    "\n",
    "# Label axes.\n",
    "plt.title(f'ROC Curve with AUC = {round(roc_auc_score(pred_df[\"true_values\"], pred_df[\"pred_probs\"]),3)}', fontsize=22)\n",
    "plt.ylabel('Sensitivity', fontsize=18)\n",
    "plt.xlabel('1 - Specificity', fontsize=18)\n",
    "\n",
    "# Create legend.\n",
    "plt.legend(fontsize=16);"
   ]
  },
  {
   "cell_type": "markdown",
   "metadata": {},
   "source": [
    "The more area under the blue curve, the better separation of distributions.\n",
    "- An ROC AUC of 1(maximum score), positive and negative populations are perfectly separated.\n",
    "- Based on the above plot with score of 0.982, it has a better good seperation."
   ]
  },
  {
   "cell_type": "markdown",
   "metadata": {},
   "source": [
    "## Model Testing"
   ]
  },
  {
   "cell_type": "code",
   "execution_count": 79,
   "metadata": {},
   "outputs": [],
   "source": [
    "#Reading the test data\n",
    "testeatcheap_df = pd.read_csv(\"../datasets/test_eatcheap.csv\")\n",
    "testsupple_df = pd.read_csv(\"../datasets/test_supple.csv\")"
   ]
  },
  {
   "cell_type": "code",
   "execution_count": 80,
   "metadata": {},
   "outputs": [],
   "source": [
    "#Drop duplicates rows\n",
    "testeatcheap_df.drop_duplicates(inplace=True)\n",
    "testsupple_df.drop_duplicates(inplace=True)"
   ]
  },
  {
   "cell_type": "code",
   "execution_count": 81,
   "metadata": {},
   "outputs": [
    {
     "data": {
      "text/plain": [
       "10"
      ]
     },
     "execution_count": 81,
     "metadata": {},
     "output_type": "execute_result"
    }
   ],
   "source": [
    "#Checking for null in interested column.\n",
    "testeatcheap_df['selftext'].isnull().sum()"
   ]
  },
  {
   "cell_type": "code",
   "execution_count": 82,
   "metadata": {
    "scrolled": true
   },
   "outputs": [
    {
     "data": {
      "text/plain": [
       "0"
      ]
     },
     "execution_count": 82,
     "metadata": {},
     "output_type": "execute_result"
    }
   ],
   "source": [
    "#Checking for null in interested column.\n",
    "testsupple_df['selftext'].isnull().sum()"
   ]
  },
  {
   "cell_type": "code",
   "execution_count": 83,
   "metadata": {},
   "outputs": [],
   "source": [
    "#Filling all those supple_df 'selftext' NaN with '---'.\n",
    "testeatcheap_df['selftext'] = testeatcheap_df['selftext'].fillna('---')"
   ]
  },
  {
   "cell_type": "code",
   "execution_count": 84,
   "metadata": {},
   "outputs": [
    {
     "data": {
      "text/plain": [
       "0"
      ]
     },
     "execution_count": 84,
     "metadata": {},
     "output_type": "execute_result"
    }
   ],
   "source": [
    "#Checking for null.\n",
    "testeatcheap_df['selftext'].isnull().sum()"
   ]
  },
  {
   "cell_type": "code",
   "execution_count": 85,
   "metadata": {},
   "outputs": [],
   "source": [
    "#Convert 'selftext' column to string instead of object\n",
    "testeatcheap_df['selftext'] = testeatcheap_df['selftext'].astype(str)\n",
    "testsupple_df['selftext'] = testsupple_df['selftext'].astype(str)"
   ]
  },
  {
   "cell_type": "code",
   "execution_count": 86,
   "metadata": {},
   "outputs": [],
   "source": [
    "#Conver all string to lower case\n",
    "testeatcheap_df['selftext'] = testeatcheap_df['selftext'].str.lower()\n",
    "testsupple_df['selftext'] = testsupple_df['selftext'].str.lower()"
   ]
  },
  {
   "cell_type": "code",
   "execution_count": 87,
   "metadata": {},
   "outputs": [],
   "source": [
    "testeatcheap_df_extract = testeatcheap_df.filter(['selftext', 'subreddit'])\n",
    "testsupple_df_extract = testsupple_df.filter(['selftext', 'subreddit'])"
   ]
  },
  {
   "cell_type": "code",
   "execution_count": 88,
   "metadata": {},
   "outputs": [],
   "source": [
    "#Concat. 2 dataframe into 1\n",
    "combinetest_df = pd.concat([testeatcheap_df_extract, testsupple_df_extract],axis=0)\n",
    "\n",
    "#Rename columns and map EatCheapAndHealthy as 0 and Supplements as 1\n",
    "combinetest_df.rename(columns={'subreddit': 'label'},inplace = True)\n",
    "combinetest_df['label'] = combinetest_df['label'].map({'EatCheapAndHealthy':0, 'Supplements':1})"
   ]
  },
  {
   "cell_type": "code",
   "execution_count": 89,
   "metadata": {},
   "outputs": [],
   "source": [
    "from sklearn.utils import shuffle\n",
    "combinetest_df = shuffle(combinetest_df)\n",
    "combinetest_df = combinetest_df.reset_index(drop=True)"
   ]
  },
  {
   "cell_type": "code",
   "execution_count": 90,
   "metadata": {
    "scrolled": true
   },
   "outputs": [
    {
     "name": "stdout",
     "output_type": "stream",
     "text": [
      "There are 200 text.\n"
     ]
    }
   ],
   "source": [
    "# Get the number of reviews based on the dataframe size.\n",
    "totaltest_selftext = combinetest_df.shape[0]\n",
    "print(f'There are {totaltest_selftext} text.')\n",
    "\n",
    "# Initialize an empty list to hold the clean text.\n",
    "cleantest = []"
   ]
  },
  {
   "cell_type": "code",
   "execution_count": 91,
   "metadata": {},
   "outputs": [
    {
     "name": "stdout",
     "output_type": "stream",
     "text": [
      "Cleaning and parsing the test set ...\n"
     ]
    }
   ],
   "source": [
    "print(\"Cleaning and parsing the test set ...\")\n",
    "\n",
    "for traintest_selftext in combinetest_df['selftext']:\n",
    "    # Convert review to words, then append to clean_train_reviews.\n",
    "    cleantest.append(selftext_to_words(traintest_selftext))\n",
    "    "
   ]
  },
  {
   "cell_type": "code",
   "execution_count": 92,
   "metadata": {},
   "outputs": [
    {
     "data": {
      "text/plain": [
       "0.88"
      ]
     },
     "execution_count": 92,
     "metadata": {},
     "output_type": "execute_result"
    }
   ],
   "source": [
    "model2.score(cleantest, combinetest_df['label'])"
   ]
  },
  {
   "cell_type": "code",
   "execution_count": null,
   "metadata": {},
   "outputs": [],
   "source": []
  },
  {
   "cell_type": "markdown",
   "metadata": {},
   "source": [
    "## Conclusion"
   ]
  },
  {
   "cell_type": "markdown",
   "metadata": {},
   "source": [
    "*Based on the result of the unseen test dataset on my model 2 selection, it did not score as good as I expected based on the training set result.\n",
    "So with every 100 posts , there are about 12 posts that my models would not classify correctly. \n",
    "I could probably do tuning on the MultinomialNB() hyperparameter to get a better result.*"
   ]
  },
  {
   "cell_type": "code",
   "execution_count": null,
   "metadata": {},
   "outputs": [],
   "source": []
  }
 ],
 "metadata": {
  "kernelspec": {
   "display_name": "Python 3",
   "language": "python",
   "name": "python3"
  },
  "language_info": {
   "codemirror_mode": {
    "name": "ipython",
    "version": 3
   },
   "file_extension": ".py",
   "mimetype": "text/x-python",
   "name": "python",
   "nbconvert_exporter": "python",
   "pygments_lexer": "ipython3",
   "version": "3.7.3"
  }
 },
 "nbformat": 4,
 "nbformat_minor": 2
}
